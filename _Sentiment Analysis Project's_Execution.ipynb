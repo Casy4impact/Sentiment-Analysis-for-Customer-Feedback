{
 "cells": [
  {
   "cell_type": "markdown",
   "metadata": {
    "id": "1Zl3avOsWLvV"
   },
   "source": [
    "This project's workflow and objectives are as follows:\n",
    "\n",
    "Create a \"Text==> Vader Pipeline\"\n",
    "\n",
    "Cretae a \"Text ==> Remove Stopwords ==> Vader Pipeline\"\n",
    "\n",
    "Create a \"Text ==> Remove Stopwords ==>  Bag Of Words ==> Custom Model\"\n",
    "\n",
    "Create a \"Text ==> Remove Stopwords ==>  TF-IDF ==> Custom Model\""
   ]
  },
  {
   "cell_type": "markdown",
   "metadata": {},
   "source": [
    "1. Text ==> Vader Pipeline\n",
    "This pipeline uses VADER (Valence Aware Dictionary and sEntiment Reasoner), a sentiment analysis tool designed to capture both the polarity and intensity of sentiments.\n",
    "\n",
    "Text: The raw textual data (e.g., customer feedback) is the input.\n",
    "VADER: The text is analyzed using VADER, which assigns a sentiment score indicating positive, neutral, or negative sentiment."
   ]
  },
  {
   "cell_type": "markdown",
   "metadata": {},
   "source": [
    "2. Text ==> Remove Stopwords ==> Vader Pipeline\n",
    "This pipeline includes a preprocessing step to remove stopwords (common words like 'and', 'the', etc.) before applying the VADER sentiment analysis.\n",
    "\n",
    "Text: The raw textual data.\n",
    "Remove Stopwords: Common words that do not contribute significantly to the sentiment are removed.\n",
    "VADER: The cleaned text is analyzed using VADER."
   ]
  },
  {
   "cell_type": "markdown",
   "metadata": {},
   "source": [
    "3. Text ==> Remove Stopwords ==> Bag Of Words ==> Custom Model\n",
    "This pipeline extends preprocessing by including the Bag of Words (BoW) representation, which converts text into numerical features before applying a custom model for tasks like classification.\n",
    "\n",
    "Text: The raw textual data.\n",
    "Remove Stopwords: Stopwords are removed.\n",
    "Bag of Words: The text is converted into a BoW vector representation, where each word is represented by a unique integer index, and its frequency is recorded.\n",
    "Custom Model: A machine learning model (e.g., logistic regression, SVM) is trained on these features for tasks like sentiment classification."
   ]
  },
  {
   "cell_type": "markdown",
   "metadata": {},
   "source": [
    "4. Text ==> Remove Stopwords ==> TF-IDF ==> Custom Model\n",
    "Similar to the previous pipeline, but uses Term Frequency-Inverse Document Frequency (TF-IDF) instead of Bag of Words, which gives more weight to unique words in a document and reduces the impact of common words.\n",
    "\n",
    "Text: The raw textual data.\n",
    "Remove Stopwords: Stopwords are removed.\n",
    "TF-IDF: Converts the cleaned text into TF-IDF vectors, emphasizing unique words while de-emphasizing common ones.\n",
    "Custom Model: A machine learning model is trained on these TF-IDF features."
   ]
  },
  {
   "cell_type": "markdown",
   "metadata": {
    "id": "nNnTieHPl97q"
   },
   "source": [
    "In order to accomplish this we neeed to perfoem:\n",
    "\n",
    "Data Collection\n",
    "\n",
    "Text Processing\n",
    "\n",
    "Modelling\n",
    "\n",
    "Model Evaluation"
   ]
  },
  {
   "cell_type": "markdown",
   "metadata": {
    "id": "uIc2LgX0mTtO"
   },
   "source": [
    "**DATA LOADING**"
   ]
  },
  {
   "cell_type": "code",
   "execution_count": null,
   "metadata": {
    "id": "vbAjS4u6igIA"
   },
   "outputs": [],
   "source": [
    "import pandas as pd\n",
    "from tqdm import tqdm\n",
    "\n",
    "import nltk\n",
    "from nltk.corpus import stopwords\n",
    "nltk.download('stopwords')\n",
    "#nltk requires this package to be installed alongside stopwords\n",
    "nltk.download('punkt')\n",
    "\n",
    "stop_words = stopwords.words(\"english\")\n",
    "\n",
    "from tqdm import tqdm\n",
    "\n",
    "from sklearn.feature_extraction.text import CountVectorizer # for creating bags of words\n",
    "from sklearn.feature_extraction.text import TfidfVectorizer # creating tf-id\n",
    "\n",
    "# vader on normal sentences\n",
    "import nltk\n",
    "# download the VADER lexicon and model\n",
    "nltk.download('vader_lexicon')\n",
    "\n",
    "#next we import the Sentiment Intensity Analyzer class from vader, this class is where the magic happens\n",
    "from nltk.sentiment.vader import SentimentIntensityAnalyzer\n",
    "analyzer = SentimentIntensityAnalyzer()\n",
    "\n",
    "from sklearn.metrics import accuracy_score, classification_report"
   ]
  },
  {
   "cell_type": "code",
   "execution_count": 368,
   "metadata": {
    "id": "6jx0IaLkkMaR"
   },
   "outputs": [],
   "source": [
    "#read in the text data: train and test set"
   ]
  },
  {
   "cell_type": "code",
   "execution_count": 370,
   "metadata": {
    "id": "VnLeerA6oE06"
   },
   "outputs": [],
   "source": [
    "train_dataset = pd.read_csv(\"e commerce reviews train.csv\")"
   ]
  },
  {
   "cell_type": "code",
   "execution_count": 371,
   "metadata": {
    "id": "umXVbrXglyDq"
   },
   "outputs": [],
   "source": [
    "test_dataset = pd.read_csv(\"e commerce reviews test.csv\")"
   ]
  },
  {
   "cell_type": "code",
   "execution_count": 372,
   "metadata": {},
   "outputs": [
    {
     "name": "stdout",
     "output_type": "stream",
     "text": [
      "<class 'pandas.core.frame.DataFrame'>\n",
      "RangeIndex: 3600010 entries, 0 to 3600009\n",
      "Data columns (total 2 columns):\n",
      " #   Column  Dtype \n",
      "---  ------  ----- \n",
      " 0   labels  object\n",
      " 1   text    object\n",
      "dtypes: object(2)\n",
      "memory usage: 54.9+ MB\n"
     ]
    }
   ],
   "source": [
    "train_dataset.info()"
   ]
  },
  {
   "cell_type": "code",
   "execution_count": 373,
   "metadata": {},
   "outputs": [
    {
     "name": "stdout",
     "output_type": "stream",
     "text": [
      "<class 'pandas.core.frame.DataFrame'>\n",
      "RangeIndex: 400000 entries, 0 to 399999\n",
      "Data columns (total 2 columns):\n",
      " #   Column  Non-Null Count   Dtype \n",
      "---  ------  --------------   ----- \n",
      " 0   labels  400000 non-null  object\n",
      " 1   text    400000 non-null  object\n",
      "dtypes: object(2)\n",
      "memory usage: 6.1+ MB\n"
     ]
    }
   ],
   "source": [
    "test_dataset.info()"
   ]
  },
  {
   "cell_type": "code",
   "execution_count": 374,
   "metadata": {},
   "outputs": [
    {
     "data": {
      "text/html": [
       "<div>\n",
       "<style scoped>\n",
       "    .dataframe tbody tr th:only-of-type {\n",
       "        vertical-align: middle;\n",
       "    }\n",
       "\n",
       "    .dataframe tbody tr th {\n",
       "        vertical-align: top;\n",
       "    }\n",
       "\n",
       "    .dataframe thead th {\n",
       "        text-align: right;\n",
       "    }\n",
       "</style>\n",
       "<table border=\"1\" class=\"dataframe\">\n",
       "  <thead>\n",
       "    <tr style=\"text-align: right;\">\n",
       "      <th></th>\n",
       "      <th>labels</th>\n",
       "      <th>text</th>\n",
       "    </tr>\n",
       "  </thead>\n",
       "  <tbody>\n",
       "    <tr>\n",
       "      <th>0</th>\n",
       "      <td>__label__2</td>\n",
       "      <td>Stuning even for the non-gamer: This sound tra...</td>\n",
       "    </tr>\n",
       "    <tr>\n",
       "      <th>1</th>\n",
       "      <td>__label__2</td>\n",
       "      <td>The best soundtrack ever to anything.: I'm rea...</td>\n",
       "    </tr>\n",
       "    <tr>\n",
       "      <th>2</th>\n",
       "      <td>__label__2</td>\n",
       "      <td>Amazing!: This soundtrack is my favorite music...</td>\n",
       "    </tr>\n",
       "    <tr>\n",
       "      <th>3</th>\n",
       "      <td>__label__2</td>\n",
       "      <td>Excellent Soundtrack: I truly like this soundt...</td>\n",
       "    </tr>\n",
       "    <tr>\n",
       "      <th>4</th>\n",
       "      <td>__label__2</td>\n",
       "      <td>Remember, Pull Your Jaw Off The Floor After He...</td>\n",
       "    </tr>\n",
       "    <tr>\n",
       "      <th>5</th>\n",
       "      <td>__label__2</td>\n",
       "      <td>an absolute masterpiece: I am quite sure any o...</td>\n",
       "    </tr>\n",
       "    <tr>\n",
       "      <th>6</th>\n",
       "      <td>__label__1</td>\n",
       "      <td>Buyer beware: This is a self-published book, a...</td>\n",
       "    </tr>\n",
       "    <tr>\n",
       "      <th>7</th>\n",
       "      <td>__label__2</td>\n",
       "      <td>Glorious story: I loved Whisper of the wicked ...</td>\n",
       "    </tr>\n",
       "    <tr>\n",
       "      <th>8</th>\n",
       "      <td>__label__2</td>\n",
       "      <td>A FIVE STAR BOOK: I just finished reading Whis...</td>\n",
       "    </tr>\n",
       "    <tr>\n",
       "      <th>9</th>\n",
       "      <td>__label__2</td>\n",
       "      <td>Whispers of the Wicked Saints: This was a easy...</td>\n",
       "    </tr>\n",
       "  </tbody>\n",
       "</table>\n",
       "</div>"
      ],
      "text/plain": [
       "       labels                                               text\n",
       "0  __label__2  Stuning even for the non-gamer: This sound tra...\n",
       "1  __label__2  The best soundtrack ever to anything.: I'm rea...\n",
       "2  __label__2  Amazing!: This soundtrack is my favorite music...\n",
       "3  __label__2  Excellent Soundtrack: I truly like this soundt...\n",
       "4  __label__2  Remember, Pull Your Jaw Off The Floor After He...\n",
       "5  __label__2  an absolute masterpiece: I am quite sure any o...\n",
       "6  __label__1  Buyer beware: This is a self-published book, a...\n",
       "7  __label__2  Glorious story: I loved Whisper of the wicked ...\n",
       "8  __label__2  A FIVE STAR BOOK: I just finished reading Whis...\n",
       "9  __label__2  Whispers of the Wicked Saints: This was a easy..."
      ]
     },
     "execution_count": 374,
     "metadata": {},
     "output_type": "execute_result"
    }
   ],
   "source": [
    "train_dataset.head(10)"
   ]
  },
  {
   "cell_type": "code",
   "execution_count": 375,
   "metadata": {},
   "outputs": [
    {
     "name": "stdout",
     "output_type": "stream",
     "text": [
      "Buyer beware: This is a self-published book, and if you want to know why--read a few paragraphs! Those 5 star reviews must have been written by Ms. Haddon's family and friends--or perhaps, by herself! I can't imagine anyone reading the whole thing--I spent an evening with the book and a friend and we were in hysterics reading bits and pieces of it to one another. It is most definitely bad enough to be entered into some kind of a \"worst book\" contest. I can't believe Amazon even sells this kind of thing. Maybe I can offer them my 8th grade term paper on \"To Kill a Mockingbird\"--a book I am quite sure Ms. Haddon never heard of. Anyway, unless you are in a mood to send a book to someone as a joke---stay far, far away from this one!\n"
     ]
    }
   ],
   "source": [
    "# Getting the row at index 6\n",
    "print(train_dataset.iloc[6]['text'])"
   ]
  },
  {
   "cell_type": "markdown",
   "metadata": {
    "id": "PDT8J_4fo1JY"
   },
   "source": [
    "**TEXT PROCESSING**"
   ]
  },
  {
   "cell_type": "code",
   "execution_count": 377,
   "metadata": {
    "id": "5oHM3JzXo005"
   },
   "outputs": [],
   "source": [
    "#FIRST LETS CHANGE THE LABELS"
   ]
  },
  {
   "cell_type": "code",
   "execution_count": 378,
   "metadata": {
    "id": "W41qmiv4kVn3"
   },
   "outputs": [],
   "source": [
    "###label 1: 1 and 2 stars ratings ==> negative\n",
    "###label 2: 4 and 5 stars rating ==> positive"
   ]
  },
  {
   "cell_type": "code",
   "execution_count": 379,
   "metadata": {
    "colab": {
     "base_uri": "https://localhost:8080/"
    },
    "id": "bR2PqZgnlYdV",
    "outputId": "db71b288-34bb-4ace-d3f5-b4a218158344"
   },
   "outputs": [
    {
     "data": {
      "text/plain": [
       "array(['__label__2', '__label__1'], dtype=object)"
      ]
     },
     "execution_count": 379,
     "metadata": {},
     "output_type": "execute_result"
    }
   ],
   "source": [
    "train_dataset['labels'].unique()"
   ]
  },
  {
   "cell_type": "code",
   "execution_count": 380,
   "metadata": {
    "id": "JM-jwRmTlHWy"
   },
   "outputs": [],
   "source": [
    "##lets map the labels to sentiment words, positive, negative\n",
    "\n",
    "mapped_values = {\n",
    "    \"__label__1\": \"negative\",\n",
    "    \"__label__2\": \"positive\"\n",
    "}"
   ]
  },
  {
   "cell_type": "code",
   "execution_count": 381,
   "metadata": {
    "id": "hTP5wxx7lpnI"
   },
   "outputs": [],
   "source": [
    "train_dataset['labels'] = train_dataset['labels'].map(mapped_values)"
   ]
  },
  {
   "cell_type": "code",
   "execution_count": 382,
   "metadata": {
    "id": "LFZ-dS3OlvDK"
   },
   "outputs": [],
   "source": [
    "test_dataset['labels'] =test_dataset['labels'].map(mapped_values)"
   ]
  },
  {
   "cell_type": "code",
   "execution_count": 383,
   "metadata": {
    "colab": {
     "base_uri": "https://localhost:8080/",
     "height": 424
    },
    "id": "lbxnyiucl3QA",
    "outputId": "6970e871-e220-45f1-efb4-91781d7e68b4"
   },
   "outputs": [
    {
     "data": {
      "text/html": [
       "<div>\n",
       "<style scoped>\n",
       "    .dataframe tbody tr th:only-of-type {\n",
       "        vertical-align: middle;\n",
       "    }\n",
       "\n",
       "    .dataframe tbody tr th {\n",
       "        vertical-align: top;\n",
       "    }\n",
       "\n",
       "    .dataframe thead th {\n",
       "        text-align: right;\n",
       "    }\n",
       "</style>\n",
       "<table border=\"1\" class=\"dataframe\">\n",
       "  <thead>\n",
       "    <tr style=\"text-align: right;\">\n",
       "      <th></th>\n",
       "      <th>labels</th>\n",
       "      <th>text</th>\n",
       "    </tr>\n",
       "  </thead>\n",
       "  <tbody>\n",
       "    <tr>\n",
       "      <th>0</th>\n",
       "      <td>positive</td>\n",
       "      <td>Great CD: My lovely Pat has one of the GREAT v...</td>\n",
       "    </tr>\n",
       "    <tr>\n",
       "      <th>1</th>\n",
       "      <td>positive</td>\n",
       "      <td>One of the best game music soundtracks - for a...</td>\n",
       "    </tr>\n",
       "    <tr>\n",
       "      <th>2</th>\n",
       "      <td>negative</td>\n",
       "      <td>Batteries died within a year ...: I bought thi...</td>\n",
       "    </tr>\n",
       "    <tr>\n",
       "      <th>3</th>\n",
       "      <td>positive</td>\n",
       "      <td>works fine, but Maha Energy is better: Check o...</td>\n",
       "    </tr>\n",
       "    <tr>\n",
       "      <th>4</th>\n",
       "      <td>positive</td>\n",
       "      <td>Great for the non-audiophile: Reviewed quite a...</td>\n",
       "    </tr>\n",
       "    <tr>\n",
       "      <th>5</th>\n",
       "      <td>negative</td>\n",
       "      <td>DVD Player crapped out after one year: I also ...</td>\n",
       "    </tr>\n",
       "    <tr>\n",
       "      <th>6</th>\n",
       "      <td>negative</td>\n",
       "      <td>Incorrect Disc: I love the style of this, but ...</td>\n",
       "    </tr>\n",
       "    <tr>\n",
       "      <th>7</th>\n",
       "      <td>negative</td>\n",
       "      <td>DVD menu select problems: I cannot scroll thro...</td>\n",
       "    </tr>\n",
       "    <tr>\n",
       "      <th>8</th>\n",
       "      <td>positive</td>\n",
       "      <td>Unique Weird Orientalia from the 1930's: Exoti...</td>\n",
       "    </tr>\n",
       "    <tr>\n",
       "      <th>9</th>\n",
       "      <td>negative</td>\n",
       "      <td>Not an \"ultimate guide\": Firstly,I enjoyed the...</td>\n",
       "    </tr>\n",
       "  </tbody>\n",
       "</table>\n",
       "</div>"
      ],
      "text/plain": [
       "     labels                                               text\n",
       "0  positive  Great CD: My lovely Pat has one of the GREAT v...\n",
       "1  positive  One of the best game music soundtracks - for a...\n",
       "2  negative  Batteries died within a year ...: I bought thi...\n",
       "3  positive  works fine, but Maha Energy is better: Check o...\n",
       "4  positive  Great for the non-audiophile: Reviewed quite a...\n",
       "5  negative  DVD Player crapped out after one year: I also ...\n",
       "6  negative  Incorrect Disc: I love the style of this, but ...\n",
       "7  negative  DVD menu select problems: I cannot scroll thro...\n",
       "8  positive  Unique Weird Orientalia from the 1930's: Exoti...\n",
       "9  negative  Not an \"ultimate guide\": Firstly,I enjoyed the..."
      ]
     },
     "execution_count": 383,
     "metadata": {},
     "output_type": "execute_result"
    }
   ],
   "source": [
    "test_dataset.head(10)"
   ]
  },
  {
   "cell_type": "code",
   "execution_count": 384,
   "metadata": {},
   "outputs": [
    {
     "data": {
      "text/html": [
       "<div>\n",
       "<style scoped>\n",
       "    .dataframe tbody tr th:only-of-type {\n",
       "        vertical-align: middle;\n",
       "    }\n",
       "\n",
       "    .dataframe tbody tr th {\n",
       "        vertical-align: top;\n",
       "    }\n",
       "\n",
       "    .dataframe thead th {\n",
       "        text-align: right;\n",
       "    }\n",
       "</style>\n",
       "<table border=\"1\" class=\"dataframe\">\n",
       "  <thead>\n",
       "    <tr style=\"text-align: right;\">\n",
       "      <th></th>\n",
       "      <th>labels</th>\n",
       "      <th>text</th>\n",
       "    </tr>\n",
       "  </thead>\n",
       "  <tbody>\n",
       "    <tr>\n",
       "      <th>0</th>\n",
       "      <td>positive</td>\n",
       "      <td>Stuning even for the non-gamer: This sound tra...</td>\n",
       "    </tr>\n",
       "    <tr>\n",
       "      <th>1</th>\n",
       "      <td>positive</td>\n",
       "      <td>The best soundtrack ever to anything.: I'm rea...</td>\n",
       "    </tr>\n",
       "    <tr>\n",
       "      <th>2</th>\n",
       "      <td>positive</td>\n",
       "      <td>Amazing!: This soundtrack is my favorite music...</td>\n",
       "    </tr>\n",
       "    <tr>\n",
       "      <th>3</th>\n",
       "      <td>positive</td>\n",
       "      <td>Excellent Soundtrack: I truly like this soundt...</td>\n",
       "    </tr>\n",
       "    <tr>\n",
       "      <th>4</th>\n",
       "      <td>positive</td>\n",
       "      <td>Remember, Pull Your Jaw Off The Floor After He...</td>\n",
       "    </tr>\n",
       "    <tr>\n",
       "      <th>5</th>\n",
       "      <td>positive</td>\n",
       "      <td>an absolute masterpiece: I am quite sure any o...</td>\n",
       "    </tr>\n",
       "    <tr>\n",
       "      <th>6</th>\n",
       "      <td>negative</td>\n",
       "      <td>Buyer beware: This is a self-published book, a...</td>\n",
       "    </tr>\n",
       "    <tr>\n",
       "      <th>7</th>\n",
       "      <td>positive</td>\n",
       "      <td>Glorious story: I loved Whisper of the wicked ...</td>\n",
       "    </tr>\n",
       "    <tr>\n",
       "      <th>8</th>\n",
       "      <td>positive</td>\n",
       "      <td>A FIVE STAR BOOK: I just finished reading Whis...</td>\n",
       "    </tr>\n",
       "    <tr>\n",
       "      <th>9</th>\n",
       "      <td>positive</td>\n",
       "      <td>Whispers of the Wicked Saints: This was a easy...</td>\n",
       "    </tr>\n",
       "  </tbody>\n",
       "</table>\n",
       "</div>"
      ],
      "text/plain": [
       "     labels                                               text\n",
       "0  positive  Stuning even for the non-gamer: This sound tra...\n",
       "1  positive  The best soundtrack ever to anything.: I'm rea...\n",
       "2  positive  Amazing!: This soundtrack is my favorite music...\n",
       "3  positive  Excellent Soundtrack: I truly like this soundt...\n",
       "4  positive  Remember, Pull Your Jaw Off The Floor After He...\n",
       "5  positive  an absolute masterpiece: I am quite sure any o...\n",
       "6  negative  Buyer beware: This is a self-published book, a...\n",
       "7  positive  Glorious story: I loved Whisper of the wicked ...\n",
       "8  positive  A FIVE STAR BOOK: I just finished reading Whis...\n",
       "9  positive  Whispers of the Wicked Saints: This was a easy..."
      ]
     },
     "execution_count": 384,
     "metadata": {},
     "output_type": "execute_result"
    }
   ],
   "source": [
    "train_dataset.head(10)"
   ]
  },
  {
   "cell_type": "markdown",
   "metadata": {},
   "source": [
    "# NLTK\n",
    "NLTK, or the Natural Language Toolkit, is a comprehensive library for natural language processing (NLP) in Python. It provides easy-to-use interfaces to over 50 corpora and lexical resources, such as WordNet, along with a suite of text-processing libraries for classification, tokenization, stemming, tagging, parsing, and semantic reasoning."
   ]
  },
  {
   "cell_type": "markdown",
   "metadata": {},
   "source": [
    "# Use Cases of NLTK\n",
    "Text Cleaning and Preprocessing: Tokenizing, removing stopwords, stemming, and lemmatizing text to prepare it for further analysis.\n",
    "Sentiment Analysis: Analyzing the sentiment or emotional tone of text data, such as customer reviews or social media posts.\n",
    "Language Translation: Assisting in tasks related to translating text between languages.\n",
    "Named Entity Recognition: Identifying proper names and classifying them into predefined categories like names of persons, organizations, locations, etc.\n",
    "Text Classification: Automatically categorizing text into predefined categories, useful in spam detection, news categorization, and more.\n",
    "NLTK is highly regarded in the field of NLP for educational purposes and rapid prototyping due to its comprehensive functionality and ease of use."
   ]
  },
  {
   "cell_type": "markdown",
   "metadata": {},
   "source": [
    "# Key Features of NLTK\n",
    "1. Text Processing Functions:\n",
    "\n",
    "Tokenization: Splitting text into sentences or words.\n",
    "Stemming and Lemmatization: Reducing words to their root form or base form.\n",
    "Part-of-Speech Tagging: Assigning grammatical categories (like noun, verb, adjective) to each word.\n",
    "Named Entity Recognition (NER): Identifying and classifying named entities in text (such as people, organizations, locations).\n",
    "\n",
    "2. Corpora and Lexical Resources:\n",
    "\n",
    "Corpora: NLTK includes access to a variety of text corpora, which are large and structured sets of texts used for linguistic research and NLP tasks.\n",
    "WordNet: A lexical database of English, which groups words into sets of synonyms called synsets and provides short definitions and usage examples.\n",
    "\n",
    "3. Text Classification:\n",
    "\n",
    "NLTK offers tools to classify text into categories using machine learning techniques, which can be trained using labeled data.\n",
    "\n",
    "4. Parsing and Syntactic Analysis:\n",
    "\n",
    "Tools for analyzing the grammatical structure of sentences, including context-free grammar (CFG) parsing.\n",
    "\n",
    "5. Semantic Analysis:\n",
    "\n",
    "Functions for understanding the meaning of text, including tools for sentiment analysis and more complex semantic tasks."
   ]
  },
  {
   "cell_type": "code",
   "execution_count": 388,
   "metadata": {
    "id": "wODcDmrGpIwd"
   },
   "outputs": [],
   "source": [
    "#LETS REMOVE STOPWORDS\n",
    "#Bag of word\n",
    "#tfidf"
   ]
  },
  {
   "cell_type": "code",
   "execution_count": 389,
   "metadata": {
    "colab": {
     "base_uri": "https://localhost:8080/"
    },
    "id": "CIz18wjMpIsO",
    "outputId": "cd639606-af9e-4959-e6f6-d3e3ee802274"
   },
   "outputs": [
    {
     "name": "stderr",
     "output_type": "stream",
     "text": [
      "[nltk_data] Downloading package stopwords to\n",
      "[nltk_data]     C:\\Users\\USER\\AppData\\Roaming\\nltk_data...\n",
      "[nltk_data]   Package stopwords is already up-to-date!\n",
      "[nltk_data] Downloading package punkt to\n",
      "[nltk_data]     C:\\Users\\USER\\AppData\\Roaming\\nltk_data...\n",
      "[nltk_data]   Package punkt is already up-to-date!\n"
     ]
    }
   ],
   "source": [
    "import nltk\n",
    "from nltk.corpus import stopwords\n",
    "nltk.download('stopwords')\n",
    "#nltk requires this package to be installed alongside stopwords\n",
    "nltk.download('punkt')\n",
    "\n",
    "stop_words = stopwords.words(\"english\")\n",
    "# Example sentence\n",
    "text = \"This is an example sentence with some stopwords that we want to remove\"\n"
   ]
  },
  {
   "cell_type": "code",
   "execution_count": 390,
   "metadata": {
    "colab": {
     "base_uri": "https://localhost:8080/"
    },
    "id": "7M9sMVSkp9iz",
    "outputId": "da4aeddf-7a0b-441d-94b4-da6f1aa8b090"
   },
   "outputs": [
    {
     "data": {
      "text/plain": [
       "['This',\n",
       " 'is',\n",
       " 'an',\n",
       " 'example',\n",
       " 'sentence',\n",
       " 'with',\n",
       " 'some',\n",
       " 'stopwords',\n",
       " 'that',\n",
       " 'we',\n",
       " 'want',\n",
       " 'to',\n",
       " 'remove']"
      ]
     },
     "execution_count": 390,
     "metadata": {},
     "output_type": "execute_result"
    }
   ],
   "source": [
    "\n",
    "# Tokenize the text (split it into words)\n",
    "words = nltk.word_tokenize(text)\n",
    "\n",
    "words"
   ]
  },
  {
   "cell_type": "code",
   "execution_count": 391,
   "metadata": {},
   "outputs": [
    {
     "data": {
      "text/plain": [
       "'me'"
      ]
     },
     "execution_count": 391,
     "metadata": {},
     "output_type": "execute_result"
    }
   ],
   "source": [
    "stop_words[1]"
   ]
  },
  {
   "cell_type": "code",
   "execution_count": 392,
   "metadata": {
    "colab": {
     "base_uri": "https://localhost:8080/"
    },
    "id": "G1qc911tpIok",
    "outputId": "a6cbb3a6-7891-4626-9a0f-5d647daf6ab4"
   },
   "outputs": [
    {
     "name": "stdout",
     "output_type": "stream",
     "text": [
      "example sentence stopwords want remove\n"
     ]
    }
   ],
   "source": [
    "\n",
    "# Get a list of English stopwords\n",
    "stop_words = set(stopwords.words(\"english\"))\n",
    "\n",
    "# Remove stopwords from the text\n",
    "filtered_words = [word for word in words if word.lower() not in stop_words]\n",
    "\n",
    "# Reconstruct the text without stopwords\n",
    "filtered_text = \" \".join(filtered_words)\n",
    "\n",
    "print(filtered_text)\n"
   ]
  },
  {
   "cell_type": "code",
   "execution_count": 394,
   "metadata": {
    "id": "tZff55WFpIjx"
   },
   "outputs": [],
   "source": [
    "#modularize code into a function\n",
    "stop_words = set(stopwords.words(\"english\"))\n",
    "def remove_stopwords(text,stop_words = stop_words):\n",
    "  '''\n",
    "  This function takes in words and tokenizes the sentence. \n",
    "  filters out the stopwords and reutens a more compact sentence  \n",
    "  '''\n",
    "  words = nltk.word_tokenize(text)\n",
    "  # Remove stopwords from the text\n",
    "  filtered_words = [word for word in words if word.lower() not in stop_words]\n",
    "  # Reconstruct the text without stopwords\n",
    "  filtered_text = \" \".join(filtered_words)\n",
    "  #print(filtered_text)\n",
    "\n",
    "  return filtered_text"
   ]
  },
  {
   "cell_type": "code",
   "execution_count": 395,
   "metadata": {
    "colab": {
     "base_uri": "https://localhost:8080/",
     "height": 36
    },
    "id": "cBrXw3mBqzjF",
    "outputId": "61e2ed19-5d86-4950-90d8-bf36b0e6e3e8"
   },
   "outputs": [
    {
     "data": {
      "text/plain": [
       "'example sentence stopwords want remove'"
      ]
     },
     "execution_count": 395,
     "metadata": {},
     "output_type": "execute_result"
    }
   ],
   "source": [
    "remove_stopwords(text)"
   ]
  },
  {
   "cell_type": "code",
   "execution_count": 396,
   "metadata": {
    "colab": {
     "base_uri": "https://localhost:8080/"
    },
    "id": "tFmHJ_nhp5Ty",
    "outputId": "159fa3e1-c07b-4e8d-bcc9-6fb3414ee89e"
   },
   "outputs": [
    {
     "data": {
      "text/plain": [
       "3600010"
      ]
     },
     "execution_count": 396,
     "metadata": {},
     "output_type": "execute_result"
    }
   ],
   "source": [
    "len(train_dataset)"
   ]
  },
  {
   "cell_type": "code",
   "execution_count": 397,
   "metadata": {},
   "outputs": [
    {
     "data": {
      "text/plain": [
       "0    Stuning even for the non-gamer: This sound tra...\n",
       "1    The best soundtrack ever to anything.: I'm rea...\n",
       "2    Amazing!: This soundtrack is my favorite music...\n",
       "3    Excellent Soundtrack: I truly like this soundt...\n",
       "4    Remember, Pull Your Jaw Off The Floor After He...\n",
       "5    an absolute masterpiece: I am quite sure any o...\n",
       "6    Buyer beware: This is a self-published book, a...\n",
       "7    Glorious story: I loved Whisper of the wicked ...\n",
       "8    A FIVE STAR BOOK: I just finished reading Whis...\n",
       "9    Whispers of the Wicked Saints: This was a easy...\n",
       "Name: text, dtype: object"
      ]
     },
     "execution_count": 397,
     "metadata": {},
     "output_type": "execute_result"
    }
   ],
   "source": [
    "train_dataset[\"text\"].head(10)"
   ]
  },
  {
   "cell_type": "code",
   "execution_count": 399,
   "metadata": {},
   "outputs": [
    {
     "data": {
      "text/plain": [
       "0    Stuning even non-gamer : sound track beautiful...\n",
       "1    best soundtrack ever anything . : 'm reading l...\n",
       "2    Amazing ! : soundtrack favorite music time , h...\n",
       "3    Excellent Soundtrack : truly like soundtrack e...\n",
       "4    Remember , Pull Jaw Floor Hearing : 've played...\n",
       "5    absolute masterpiece : quite sure actually tak...\n",
       "6    Buyer beware : self-published book , want know...\n",
       "7    Glorious story : loved Whisper wicked saints ....\n",
       "8    FIVE STAR BOOK : finished reading Whisper Wick...\n",
       "9    Whispers Wicked Saints : easy read book made w...\n",
       "Name: text, dtype: object"
      ]
     },
     "execution_count": 399,
     "metadata": {},
     "output_type": "execute_result"
    }
   ],
   "source": [
    "train_dataset[\"text\"].head(10).apply(remove_stopwords)"
   ]
  },
  {
   "cell_type": "code",
   "execution_count": 156,
   "metadata": {},
   "outputs": [],
   "source": [
    "from tqdm import tqdm"
   ]
  },
  {
   "cell_type": "code",
   "execution_count": 429,
   "metadata": {
    "colab": {
     "base_uri": "https://localhost:8080/"
    },
    "id": "N_Fox2fJrm76",
    "outputId": "30e36045-1a89-49d0-cdcc-20d4323b13fd"
   },
   "outputs": [
    {
     "name": "stderr",
     "output_type": "stream",
     "text": [
      "100%|█████████████████████████████████████████████████████████████████████| 3600010/3600010 [1:04:17<00:00, 933.14it/s]\n"
     ]
    }
   ],
   "source": [
    "##i would love to see a progress bar when we process for all the 3.6 million reviews\n",
    "total_rows = len(train_dataset)\n",
    "tqdm.pandas(total = total_rows)\n",
    "train_dataset['stop words'] = train_dataset['text'].progress_apply(remove_stopwords)"
   ]
  },
  {
   "cell_type": "code",
   "execution_count": 430,
   "metadata": {},
   "outputs": [
    {
     "data": {
      "text/html": [
       "<div>\n",
       "<style scoped>\n",
       "    .dataframe tbody tr th:only-of-type {\n",
       "        vertical-align: middle;\n",
       "    }\n",
       "\n",
       "    .dataframe tbody tr th {\n",
       "        vertical-align: top;\n",
       "    }\n",
       "\n",
       "    .dataframe thead th {\n",
       "        text-align: right;\n",
       "    }\n",
       "</style>\n",
       "<table border=\"1\" class=\"dataframe\">\n",
       "  <thead>\n",
       "    <tr style=\"text-align: right;\">\n",
       "      <th></th>\n",
       "      <th>labels</th>\n",
       "      <th>text</th>\n",
       "      <th>stop words</th>\n",
       "    </tr>\n",
       "  </thead>\n",
       "  <tbody>\n",
       "    <tr>\n",
       "      <th>0</th>\n",
       "      <td>positive</td>\n",
       "      <td>Stuning even for the non-gamer: This sound tra...</td>\n",
       "      <td>Stuning even non-gamer : sound track beautiful...</td>\n",
       "    </tr>\n",
       "    <tr>\n",
       "      <th>1</th>\n",
       "      <td>positive</td>\n",
       "      <td>The best soundtrack ever to anything.: I'm rea...</td>\n",
       "      <td>best soundtrack ever anything . : 'm reading l...</td>\n",
       "    </tr>\n",
       "    <tr>\n",
       "      <th>2</th>\n",
       "      <td>positive</td>\n",
       "      <td>Amazing!: This soundtrack is my favorite music...</td>\n",
       "      <td>Amazing ! : soundtrack favorite music time , h...</td>\n",
       "    </tr>\n",
       "    <tr>\n",
       "      <th>3</th>\n",
       "      <td>positive</td>\n",
       "      <td>Excellent Soundtrack: I truly like this soundt...</td>\n",
       "      <td>Excellent Soundtrack : truly like soundtrack e...</td>\n",
       "    </tr>\n",
       "    <tr>\n",
       "      <th>4</th>\n",
       "      <td>positive</td>\n",
       "      <td>Remember, Pull Your Jaw Off The Floor After He...</td>\n",
       "      <td>Remember , Pull Jaw Floor Hearing : 've played...</td>\n",
       "    </tr>\n",
       "    <tr>\n",
       "      <th>...</th>\n",
       "      <td>...</td>\n",
       "      <td>...</td>\n",
       "      <td>...</td>\n",
       "    </tr>\n",
       "    <tr>\n",
       "      <th>3600005</th>\n",
       "      <td>negative</td>\n",
       "      <td>Don't do it!!: The high chair looks great when...</td>\n",
       "      <td>n't ! ! : high chair looks great first comes b...</td>\n",
       "    </tr>\n",
       "    <tr>\n",
       "      <th>3600006</th>\n",
       "      <td>negative</td>\n",
       "      <td>Looks nice, low functionality: I have used thi...</td>\n",
       "      <td>Looks nice , low functionality : used highchai...</td>\n",
       "    </tr>\n",
       "    <tr>\n",
       "      <th>3600007</th>\n",
       "      <td>negative</td>\n",
       "      <td>compact, but hard to clean: We have a small ho...</td>\n",
       "      <td>compact , hard clean : small house , really wa...</td>\n",
       "    </tr>\n",
       "    <tr>\n",
       "      <th>3600008</th>\n",
       "      <td>negative</td>\n",
       "      <td>what is it saying?: not sure what this book is...</td>\n",
       "      <td>saying ? : sure book supposed . really rehash ...</td>\n",
       "    </tr>\n",
       "    <tr>\n",
       "      <th>3600009</th>\n",
       "      <td>positive</td>\n",
       "      <td>Makes My Blood Run Red-White-And-Blue: I agree...</td>\n",
       "      <td>Makes Blood Run Red-White-And-Blue : agree eve...</td>\n",
       "    </tr>\n",
       "  </tbody>\n",
       "</table>\n",
       "<p>3600010 rows × 3 columns</p>\n",
       "</div>"
      ],
      "text/plain": [
       "           labels                                               text  \\\n",
       "0        positive  Stuning even for the non-gamer: This sound tra...   \n",
       "1        positive  The best soundtrack ever to anything.: I'm rea...   \n",
       "2        positive  Amazing!: This soundtrack is my favorite music...   \n",
       "3        positive  Excellent Soundtrack: I truly like this soundt...   \n",
       "4        positive  Remember, Pull Your Jaw Off The Floor After He...   \n",
       "...           ...                                                ...   \n",
       "3600005  negative  Don't do it!!: The high chair looks great when...   \n",
       "3600006  negative  Looks nice, low functionality: I have used thi...   \n",
       "3600007  negative  compact, but hard to clean: We have a small ho...   \n",
       "3600008  negative  what is it saying?: not sure what this book is...   \n",
       "3600009  positive  Makes My Blood Run Red-White-And-Blue: I agree...   \n",
       "\n",
       "                                                stop words  \n",
       "0        Stuning even non-gamer : sound track beautiful...  \n",
       "1        best soundtrack ever anything . : 'm reading l...  \n",
       "2        Amazing ! : soundtrack favorite music time , h...  \n",
       "3        Excellent Soundtrack : truly like soundtrack e...  \n",
       "4        Remember , Pull Jaw Floor Hearing : 've played...  \n",
       "...                                                    ...  \n",
       "3600005  n't ! ! : high chair looks great first comes b...  \n",
       "3600006  Looks nice , low functionality : used highchai...  \n",
       "3600007  compact , hard clean : small house , really wa...  \n",
       "3600008  saying ? : sure book supposed . really rehash ...  \n",
       "3600009  Makes Blood Run Red-White-And-Blue : agree eve...  \n",
       "\n",
       "[3600010 rows x 3 columns]"
      ]
     },
     "execution_count": 430,
     "metadata": {},
     "output_type": "execute_result"
    }
   ],
   "source": [
    "train_dataset"
   ]
  },
  {
   "cell_type": "code",
   "execution_count": 434,
   "metadata": {},
   "outputs": [
    {
     "name": "stderr",
     "output_type": "stream",
     "text": [
      "100%|█████████████████████████████████████████████████████████████████████████| 400000/400000 [07:22<00:00, 904.59it/s]\n"
     ]
    }
   ],
   "source": [
    "total_rows = len(test_dataset)\n",
    "tqdm.pandas(total = total_rows)\n",
    "test_dataset['stop words'] = test_dataset['text'].progress_apply(remove_stopwords)"
   ]
  },
  {
   "cell_type": "code",
   "execution_count": 435,
   "metadata": {},
   "outputs": [
    {
     "data": {
      "text/html": [
       "<div>\n",
       "<style scoped>\n",
       "    .dataframe tbody tr th:only-of-type {\n",
       "        vertical-align: middle;\n",
       "    }\n",
       "\n",
       "    .dataframe tbody tr th {\n",
       "        vertical-align: top;\n",
       "    }\n",
       "\n",
       "    .dataframe thead th {\n",
       "        text-align: right;\n",
       "    }\n",
       "</style>\n",
       "<table border=\"1\" class=\"dataframe\">\n",
       "  <thead>\n",
       "    <tr style=\"text-align: right;\">\n",
       "      <th></th>\n",
       "      <th>labels</th>\n",
       "      <th>text</th>\n",
       "      <th>stop words</th>\n",
       "    </tr>\n",
       "  </thead>\n",
       "  <tbody>\n",
       "    <tr>\n",
       "      <th>0</th>\n",
       "      <td>positive</td>\n",
       "      <td>Great CD: My lovely Pat has one of the GREAT v...</td>\n",
       "      <td>Great CD : lovely Pat one GREAT voices generat...</td>\n",
       "    </tr>\n",
       "    <tr>\n",
       "      <th>1</th>\n",
       "      <td>positive</td>\n",
       "      <td>One of the best game music soundtracks - for a...</td>\n",
       "      <td>One best game music soundtracks - game n't rea...</td>\n",
       "    </tr>\n",
       "    <tr>\n",
       "      <th>2</th>\n",
       "      <td>negative</td>\n",
       "      <td>Batteries died within a year ...: I bought thi...</td>\n",
       "      <td>Batteries died within year ... : bought charge...</td>\n",
       "    </tr>\n",
       "    <tr>\n",
       "      <th>3</th>\n",
       "      <td>positive</td>\n",
       "      <td>works fine, but Maha Energy is better: Check o...</td>\n",
       "      <td>works fine , Maha Energy better : Check Maha E...</td>\n",
       "    </tr>\n",
       "    <tr>\n",
       "      <th>4</th>\n",
       "      <td>positive</td>\n",
       "      <td>Great for the non-audiophile: Reviewed quite a...</td>\n",
       "      <td>Great non-audiophile : Reviewed quite bit comb...</td>\n",
       "    </tr>\n",
       "    <tr>\n",
       "      <th>...</th>\n",
       "      <td>...</td>\n",
       "      <td>...</td>\n",
       "      <td>...</td>\n",
       "    </tr>\n",
       "    <tr>\n",
       "      <th>399995</th>\n",
       "      <td>negative</td>\n",
       "      <td>Unbelievable- In a Bad Way: We bought this Tho...</td>\n",
       "      <td>Unbelievable- Bad Way : bought Thomas son huge...</td>\n",
       "    </tr>\n",
       "    <tr>\n",
       "      <th>399996</th>\n",
       "      <td>negative</td>\n",
       "      <td>Almost Great, Until it Broke...: My son reciev...</td>\n",
       "      <td>Almost Great , Broke ... : son recieved birthd...</td>\n",
       "    </tr>\n",
       "    <tr>\n",
       "      <th>399997</th>\n",
       "      <td>negative</td>\n",
       "      <td>Disappointed !!!: I bought this toy for my son...</td>\n",
       "      <td>Disappointed ! ! ! : bought toy son loves `` T...</td>\n",
       "    </tr>\n",
       "    <tr>\n",
       "      <th>399998</th>\n",
       "      <td>positive</td>\n",
       "      <td>Classic Jessica Mitford: This is a compilation...</td>\n",
       "      <td>Classic Jessica Mitford : compilation wide ran...</td>\n",
       "    </tr>\n",
       "    <tr>\n",
       "      <th>399999</th>\n",
       "      <td>negative</td>\n",
       "      <td>Comedy Scene, and Not Heard: This DVD will be ...</td>\n",
       "      <td>Comedy Scene , Heard : DVD disappointment get ...</td>\n",
       "    </tr>\n",
       "  </tbody>\n",
       "</table>\n",
       "<p>400000 rows × 3 columns</p>\n",
       "</div>"
      ],
      "text/plain": [
       "          labels                                               text  \\\n",
       "0       positive  Great CD: My lovely Pat has one of the GREAT v...   \n",
       "1       positive  One of the best game music soundtracks - for a...   \n",
       "2       negative  Batteries died within a year ...: I bought thi...   \n",
       "3       positive  works fine, but Maha Energy is better: Check o...   \n",
       "4       positive  Great for the non-audiophile: Reviewed quite a...   \n",
       "...          ...                                                ...   \n",
       "399995  negative  Unbelievable- In a Bad Way: We bought this Tho...   \n",
       "399996  negative  Almost Great, Until it Broke...: My son reciev...   \n",
       "399997  negative  Disappointed !!!: I bought this toy for my son...   \n",
       "399998  positive  Classic Jessica Mitford: This is a compilation...   \n",
       "399999  negative  Comedy Scene, and Not Heard: This DVD will be ...   \n",
       "\n",
       "                                               stop words  \n",
       "0       Great CD : lovely Pat one GREAT voices generat...  \n",
       "1       One best game music soundtracks - game n't rea...  \n",
       "2       Batteries died within year ... : bought charge...  \n",
       "3       works fine , Maha Energy better : Check Maha E...  \n",
       "4       Great non-audiophile : Reviewed quite bit comb...  \n",
       "...                                                   ...  \n",
       "399995  Unbelievable- Bad Way : bought Thomas son huge...  \n",
       "399996  Almost Great , Broke ... : son recieved birthd...  \n",
       "399997  Disappointed ! ! ! : bought toy son loves `` T...  \n",
       "399998  Classic Jessica Mitford : compilation wide ran...  \n",
       "399999  Comedy Scene , Heard : DVD disappointment get ...  \n",
       "\n",
       "[400000 rows x 3 columns]"
      ]
     },
     "execution_count": 435,
     "metadata": {},
     "output_type": "execute_result"
    }
   ],
   "source": [
    "test_dataset"
   ]
  },
  {
   "cell_type": "markdown",
   "metadata": {
    "id": "5sfkA5smxqyv"
   },
   "source": [
    "# LETS CREATE A BAG OF WORDS AND TF-IDF\n"
   ]
  },
  {
   "cell_type": "markdown",
   "metadata": {
    "id": "K0aBMYNbrjGy"
   },
   "source": [
    "# Bag of Words (BoW)\n",
    "A \"Bag of Words\" (BoW) is a simple and commonly used technique in natural language processing (NLP) and text analysis to represent text data as numerical features. It is used to transform a collection of text documents into a format that can be processed by machine learning algorithms. The idea behind the Bag of Words model is to disregard the order and structure of words in a text and focus only on the frequency of each word's occurrence.\n",
    "\n",
    "The key idea is that the order of words and the grammatical structure of sentences are ignored, and the analysis is purely based on the presence or absence of specific words and their frequencies."
   ]
  },
  {
   "cell_type": "markdown",
   "metadata": {
    "id": "juL1nL1Eroez"
   },
   "source": [
    "# TF-IDF\n",
    "TF-IDF, which stands for \"Term Frequency-Inverse Document Frequency,\" is a numerical statistic used in information retrieval and natural language processing (NLP) to evaluate the importance of a word within a document relative to a collection of documents, typically a corpus.\n",
    "\n",
    "The TF-IDF score provides a measure of how important a term is within a specific document and across a collection of documents. Terms that appear frequently in a document but rarely in other documents receive higher TF-IDF scores, making them indicative of the content of that document."
   ]
  },
  {
   "cell_type": "code",
   "execution_count": 456,
   "metadata": {
    "colab": {
     "background_save": true
    },
    "id": "3B4Akvh9xquE"
   },
   "outputs": [],
   "source": [
    "from sklearn.feature_extraction.text import CountVectorizer # for creating bags of words\n",
    "from sklearn.feature_extraction.text import TfidfVectorizer # creating tf-idf"
   ]
  },
  {
   "cell_type": "markdown",
   "metadata": {
    "colab": {
     "background_save": true
    },
    "id": "ugMl2ZdXrilo"
   },
   "source": [
    "## Creating bag of words from stop words column"
   ]
  },
  {
   "cell_type": "code",
   "execution_count": 459,
   "metadata": {
    "colab": {
     "background_save": true
    },
    "id": "FNJt4OHEySLh"
   },
   "outputs": [],
   "source": [
    "vectorizer = CountVectorizer() # You can adjust max_features as needed\n",
    "train_bow = vectorizer.fit_transform(train_dataset['stop words'])\n",
    "test_bow = vectorizer.transform(test_dataset['stop words'])"
   ]
  },
  {
   "cell_type": "markdown",
   "metadata": {},
   "source": [
    "## Creating a tf-idf matrix from stopwords"
   ]
  },
  {
   "cell_type": "code",
   "execution_count": 461,
   "metadata": {
    "colab": {
     "background_save": true
    },
    "id": "XgD60yeKySee"
   },
   "outputs": [],
   "source": [
    "tfidf_vectorizer = TfidfVectorizer()  # You can adjust max_features as needed\n",
    "train_tfidf = tfidf_vectorizer.fit_transform(train_dataset['stop words'])\n",
    "test_tfidf = tfidf_vectorizer.transform(test_dataset['stop words'])"
   ]
  },
  {
   "cell_type": "code",
   "execution_count": null,
   "metadata": {
    "id": "3TXDxVhyySi2"
   },
   "outputs": [],
   "source": []
  },
  {
   "cell_type": "markdown",
   "metadata": {
    "id": "lEjcGeJc2NLi"
   },
   "source": [
    "# MODELLING AND EVALUATION"
   ]
  },
  {
   "cell_type": "markdown",
   "metadata": {},
   "source": [
    "- vader on normal sentences\n",
    "- vader on sentence with stop words\n",
    "- custom on train_tf-idf\n",
    "- custom on train_bow"
   ]
  },
  {
   "cell_type": "code",
   "execution_count": 439,
   "metadata": {
    "colab": {
     "background_save": true
    },
    "id": "_W5OTeHTmSOC",
    "outputId": "fa297399-12c7-4135-9dbb-a564f6d626f4"
   },
   "outputs": [
    {
     "name": "stderr",
     "output_type": "stream",
     "text": [
      "[nltk_data] Downloading package vader_lexicon to\n",
      "[nltk_data]     C:\\Users\\USER\\AppData\\Roaming\\nltk_data...\n",
      "[nltk_data]   Package vader_lexicon is already up-to-date!\n"
     ]
    },
    {
     "data": {
      "text/plain": [
       "True"
      ]
     },
     "execution_count": 439,
     "metadata": {},
     "output_type": "execute_result"
    }
   ],
   "source": [
    "# vader on normal sentences\n",
    "import nltk\n",
    "# download the VADER lexicon and model\n",
    "nltk.download('vader_lexicon')"
   ]
  },
  {
   "cell_type": "markdown",
   "metadata": {},
   "source": [
    "# vader: is a pretrained model for analysing sentiment sentences"
   ]
  },
  {
   "cell_type": "code",
   "execution_count": 441,
   "metadata": {
    "colab": {
     "background_save": true
    },
    "id": "qpLtIVkFmWOU"
   },
   "outputs": [],
   "source": [
    "#next we import the Sentiment Intensity Analyzer class from vader, this class is where the magic happens\n",
    "from nltk.sentiment.vader import SentimentIntensityAnalyzer\n",
    "analyzer = SentimentIntensityAnalyzer()"
   ]
  },
  {
   "cell_type": "code",
   "execution_count": null,
   "metadata": {},
   "outputs": [],
   "source": []
  },
  {
   "cell_type": "code",
   "execution_count": 443,
   "metadata": {
    "colab": {
     "background_save": true
    },
    "id": "hQNa2JbqmiKU",
    "outputId": "a4b0b062-6fc4-4242-9c7c-7a59b5c0d434"
   },
   "outputs": [
    {
     "name": "stdout",
     "output_type": "stream",
     "text": [
      "{'neg': 0.0, 'neu': 0.36, 'pos': 0.64, 'compound': 0.7964}\n"
     ]
    }
   ],
   "source": [
    "##lets test out the sentiment analyzer with an example text\n",
    "\n",
    "example_text  = \"i love the orange flavor, it is a good product\"\n",
    "sentiment_scores = analyzer.polarity_scores(example_text)\n",
    "\n",
    "# The sentiment_scores dictionary will contain the scores.\n",
    "print(sentiment_scores)"
   ]
  },
  {
   "cell_type": "code",
   "execution_count": 444,
   "metadata": {
    "colab": {
     "background_save": true
    },
    "id": "Dq0R7pjtmwjM",
    "outputId": "99e3b9d3-76c4-4664-8c30-40773fbc0689"
   },
   "outputs": [
    {
     "name": "stdout",
     "output_type": "stream",
     "text": [
      "The sentiment is Positive (Compound Score: 0.7964)\n"
     ]
    }
   ],
   "source": [
    "#getting the sentiment scores\n",
    "compound_score = sentiment_scores['compound']\n",
    "#now lets make a decision for the cut off for a postitive or negative score\n",
    "if compound_score > 0:\n",
    "    sentiment = \"Positive\"\n",
    "else:\n",
    "  sentiment = \"Negative\"\n",
    "\n",
    "print(f\"The sentiment is {sentiment} (Compound Score: {compound_score})\")\n"
   ]
  },
  {
   "cell_type": "code",
   "execution_count": 445,
   "metadata": {
    "colab": {
     "background_save": true
    },
    "id": "nHlcxqgQo1Ky"
   },
   "outputs": [],
   "source": [
    "##we want to apply all we just did to all the text in our dataset, so lets first\n",
    "##create the function, then we apply the function\n",
    "\n",
    "# Defining a function to analyze sentiment of a given sentence\n",
    "def analyze_sentence(sentence):\n",
    "  '''\n",
    "  takes a sentence \n",
    "  get the sentiment using analyzer\n",
    "  return positive if the compound score > 0, other return negative\n",
    "  '''\n",
    "  sentiment_scores = analyzer.polarity_scores(sentence)\n",
    "  compound_score = sentiment_scores['compound']\n",
    "\n",
    "  if compound_score > 0:\n",
    "    sentiment = \"positive\"\n",
    "  else:\n",
    "    sentiment = \"negative\"\n",
    "\n",
    "  return sentiment"
   ]
  },
  {
   "cell_type": "code",
   "execution_count": 446,
   "metadata": {},
   "outputs": [
    {
     "data": {
      "text/plain": [
       "'positive'"
      ]
     },
     "execution_count": 446,
     "metadata": {},
     "output_type": "execute_result"
    }
   ],
   "source": [
    " analyze_sentence(example_text)"
   ]
  },
  {
   "cell_type": "code",
   "execution_count": 447,
   "metadata": {},
   "outputs": [],
   "source": [
    "#vader on text\n",
    "test_dataset[\"vader_on_text\"] = test_dataset[\"text\"].apply(analyze_sentence)"
   ]
  },
  {
   "cell_type": "code",
   "execution_count": 448,
   "metadata": {},
   "outputs": [],
   "source": [
    "# Vader on stopwords column\n",
    "test_dataset[\"vader_on_text_without_stopwords\"] = test_dataset[\"stop words\"].apply(analyze_sentence)"
   ]
  },
  {
   "cell_type": "markdown",
   "metadata": {},
   "source": [
    "# training custom models on bag of words and tf-idf"
   ]
  },
  {
   "cell_type": "code",
   "execution_count": null,
   "metadata": {},
   "outputs": [],
   "source": [
    "train_tfidf"
   ]
  },
  {
   "cell_type": "code",
   "execution_count": null,
   "metadata": {},
   "outputs": [],
   "source": [
    "train_bow"
   ]
  },
  {
   "cell_type": "code",
   "execution_count": 452,
   "metadata": {},
   "outputs": [],
   "source": [
    "# Multinomial Naive Bayes\n",
    "from sklearn.naive_bayes import MultinomialNB"
   ]
  },
  {
   "cell_type": "code",
   "execution_count": 453,
   "metadata": {},
   "outputs": [],
   "source": [
    "# Creating classifier objects for tf-idf and bow models\n",
    "classifier_bow = MultinomialNB()\n",
    "classifier_tfidf = MultinomialNB()"
   ]
  },
  {
   "cell_type": "code",
   "execution_count": 454,
   "metadata": {},
   "outputs": [
    {
     "data": {
      "text/html": [
       "<style>#sk-container-id-1 {\n",
       "  /* Definition of color scheme common for light and dark mode */\n",
       "  --sklearn-color-text: black;\n",
       "  --sklearn-color-line: gray;\n",
       "  /* Definition of color scheme for unfitted estimators */\n",
       "  --sklearn-color-unfitted-level-0: #fff5e6;\n",
       "  --sklearn-color-unfitted-level-1: #f6e4d2;\n",
       "  --sklearn-color-unfitted-level-2: #ffe0b3;\n",
       "  --sklearn-color-unfitted-level-3: chocolate;\n",
       "  /* Definition of color scheme for fitted estimators */\n",
       "  --sklearn-color-fitted-level-0: #f0f8ff;\n",
       "  --sklearn-color-fitted-level-1: #d4ebff;\n",
       "  --sklearn-color-fitted-level-2: #b3dbfd;\n",
       "  --sklearn-color-fitted-level-3: cornflowerblue;\n",
       "\n",
       "  /* Specific color for light theme */\n",
       "  --sklearn-color-text-on-default-background: var(--sg-text-color, var(--theme-code-foreground, var(--jp-content-font-color1, black)));\n",
       "  --sklearn-color-background: var(--sg-background-color, var(--theme-background, var(--jp-layout-color0, white)));\n",
       "  --sklearn-color-border-box: var(--sg-text-color, var(--theme-code-foreground, var(--jp-content-font-color1, black)));\n",
       "  --sklearn-color-icon: #696969;\n",
       "\n",
       "  @media (prefers-color-scheme: dark) {\n",
       "    /* Redefinition of color scheme for dark theme */\n",
       "    --sklearn-color-text-on-default-background: var(--sg-text-color, var(--theme-code-foreground, var(--jp-content-font-color1, white)));\n",
       "    --sklearn-color-background: var(--sg-background-color, var(--theme-background, var(--jp-layout-color0, #111)));\n",
       "    --sklearn-color-border-box: var(--sg-text-color, var(--theme-code-foreground, var(--jp-content-font-color1, white)));\n",
       "    --sklearn-color-icon: #878787;\n",
       "  }\n",
       "}\n",
       "\n",
       "#sk-container-id-1 {\n",
       "  color: var(--sklearn-color-text);\n",
       "}\n",
       "\n",
       "#sk-container-id-1 pre {\n",
       "  padding: 0;\n",
       "}\n",
       "\n",
       "#sk-container-id-1 input.sk-hidden--visually {\n",
       "  border: 0;\n",
       "  clip: rect(1px 1px 1px 1px);\n",
       "  clip: rect(1px, 1px, 1px, 1px);\n",
       "  height: 1px;\n",
       "  margin: -1px;\n",
       "  overflow: hidden;\n",
       "  padding: 0;\n",
       "  position: absolute;\n",
       "  width: 1px;\n",
       "}\n",
       "\n",
       "#sk-container-id-1 div.sk-dashed-wrapped {\n",
       "  border: 1px dashed var(--sklearn-color-line);\n",
       "  margin: 0 0.4em 0.5em 0.4em;\n",
       "  box-sizing: border-box;\n",
       "  padding-bottom: 0.4em;\n",
       "  background-color: var(--sklearn-color-background);\n",
       "}\n",
       "\n",
       "#sk-container-id-1 div.sk-container {\n",
       "  /* jupyter's `normalize.less` sets `[hidden] { display: none; }`\n",
       "     but bootstrap.min.css set `[hidden] { display: none !important; }`\n",
       "     so we also need the `!important` here to be able to override the\n",
       "     default hidden behavior on the sphinx rendered scikit-learn.org.\n",
       "     See: https://github.com/scikit-learn/scikit-learn/issues/21755 */\n",
       "  display: inline-block !important;\n",
       "  position: relative;\n",
       "}\n",
       "\n",
       "#sk-container-id-1 div.sk-text-repr-fallback {\n",
       "  display: none;\n",
       "}\n",
       "\n",
       "div.sk-parallel-item,\n",
       "div.sk-serial,\n",
       "div.sk-item {\n",
       "  /* draw centered vertical line to link estimators */\n",
       "  background-image: linear-gradient(var(--sklearn-color-text-on-default-background), var(--sklearn-color-text-on-default-background));\n",
       "  background-size: 2px 100%;\n",
       "  background-repeat: no-repeat;\n",
       "  background-position: center center;\n",
       "}\n",
       "\n",
       "/* Parallel-specific style estimator block */\n",
       "\n",
       "#sk-container-id-1 div.sk-parallel-item::after {\n",
       "  content: \"\";\n",
       "  width: 100%;\n",
       "  border-bottom: 2px solid var(--sklearn-color-text-on-default-background);\n",
       "  flex-grow: 1;\n",
       "}\n",
       "\n",
       "#sk-container-id-1 div.sk-parallel {\n",
       "  display: flex;\n",
       "  align-items: stretch;\n",
       "  justify-content: center;\n",
       "  background-color: var(--sklearn-color-background);\n",
       "  position: relative;\n",
       "}\n",
       "\n",
       "#sk-container-id-1 div.sk-parallel-item {\n",
       "  display: flex;\n",
       "  flex-direction: column;\n",
       "}\n",
       "\n",
       "#sk-container-id-1 div.sk-parallel-item:first-child::after {\n",
       "  align-self: flex-end;\n",
       "  width: 50%;\n",
       "}\n",
       "\n",
       "#sk-container-id-1 div.sk-parallel-item:last-child::after {\n",
       "  align-self: flex-start;\n",
       "  width: 50%;\n",
       "}\n",
       "\n",
       "#sk-container-id-1 div.sk-parallel-item:only-child::after {\n",
       "  width: 0;\n",
       "}\n",
       "\n",
       "/* Serial-specific style estimator block */\n",
       "\n",
       "#sk-container-id-1 div.sk-serial {\n",
       "  display: flex;\n",
       "  flex-direction: column;\n",
       "  align-items: center;\n",
       "  background-color: var(--sklearn-color-background);\n",
       "  padding-right: 1em;\n",
       "  padding-left: 1em;\n",
       "}\n",
       "\n",
       "\n",
       "/* Toggleable style: style used for estimator/Pipeline/ColumnTransformer box that is\n",
       "clickable and can be expanded/collapsed.\n",
       "- Pipeline and ColumnTransformer use this feature and define the default style\n",
       "- Estimators will overwrite some part of the style using the `sk-estimator` class\n",
       "*/\n",
       "\n",
       "/* Pipeline and ColumnTransformer style (default) */\n",
       "\n",
       "#sk-container-id-1 div.sk-toggleable {\n",
       "  /* Default theme specific background. It is overwritten whether we have a\n",
       "  specific estimator or a Pipeline/ColumnTransformer */\n",
       "  background-color: var(--sklearn-color-background);\n",
       "}\n",
       "\n",
       "/* Toggleable label */\n",
       "#sk-container-id-1 label.sk-toggleable__label {\n",
       "  cursor: pointer;\n",
       "  display: block;\n",
       "  width: 100%;\n",
       "  margin-bottom: 0;\n",
       "  padding: 0.5em;\n",
       "  box-sizing: border-box;\n",
       "  text-align: center;\n",
       "}\n",
       "\n",
       "#sk-container-id-1 label.sk-toggleable__label-arrow:before {\n",
       "  /* Arrow on the left of the label */\n",
       "  content: \"▸\";\n",
       "  float: left;\n",
       "  margin-right: 0.25em;\n",
       "  color: var(--sklearn-color-icon);\n",
       "}\n",
       "\n",
       "#sk-container-id-1 label.sk-toggleable__label-arrow:hover:before {\n",
       "  color: var(--sklearn-color-text);\n",
       "}\n",
       "\n",
       "/* Toggleable content - dropdown */\n",
       "\n",
       "#sk-container-id-1 div.sk-toggleable__content {\n",
       "  max-height: 0;\n",
       "  max-width: 0;\n",
       "  overflow: hidden;\n",
       "  text-align: left;\n",
       "  /* unfitted */\n",
       "  background-color: var(--sklearn-color-unfitted-level-0);\n",
       "}\n",
       "\n",
       "#sk-container-id-1 div.sk-toggleable__content.fitted {\n",
       "  /* fitted */\n",
       "  background-color: var(--sklearn-color-fitted-level-0);\n",
       "}\n",
       "\n",
       "#sk-container-id-1 div.sk-toggleable__content pre {\n",
       "  margin: 0.2em;\n",
       "  border-radius: 0.25em;\n",
       "  color: var(--sklearn-color-text);\n",
       "  /* unfitted */\n",
       "  background-color: var(--sklearn-color-unfitted-level-0);\n",
       "}\n",
       "\n",
       "#sk-container-id-1 div.sk-toggleable__content.fitted pre {\n",
       "  /* unfitted */\n",
       "  background-color: var(--sklearn-color-fitted-level-0);\n",
       "}\n",
       "\n",
       "#sk-container-id-1 input.sk-toggleable__control:checked~div.sk-toggleable__content {\n",
       "  /* Expand drop-down */\n",
       "  max-height: 200px;\n",
       "  max-width: 100%;\n",
       "  overflow: auto;\n",
       "}\n",
       "\n",
       "#sk-container-id-1 input.sk-toggleable__control:checked~label.sk-toggleable__label-arrow:before {\n",
       "  content: \"▾\";\n",
       "}\n",
       "\n",
       "/* Pipeline/ColumnTransformer-specific style */\n",
       "\n",
       "#sk-container-id-1 div.sk-label input.sk-toggleable__control:checked~label.sk-toggleable__label {\n",
       "  color: var(--sklearn-color-text);\n",
       "  background-color: var(--sklearn-color-unfitted-level-2);\n",
       "}\n",
       "\n",
       "#sk-container-id-1 div.sk-label.fitted input.sk-toggleable__control:checked~label.sk-toggleable__label {\n",
       "  background-color: var(--sklearn-color-fitted-level-2);\n",
       "}\n",
       "\n",
       "/* Estimator-specific style */\n",
       "\n",
       "/* Colorize estimator box */\n",
       "#sk-container-id-1 div.sk-estimator input.sk-toggleable__control:checked~label.sk-toggleable__label {\n",
       "  /* unfitted */\n",
       "  background-color: var(--sklearn-color-unfitted-level-2);\n",
       "}\n",
       "\n",
       "#sk-container-id-1 div.sk-estimator.fitted input.sk-toggleable__control:checked~label.sk-toggleable__label {\n",
       "  /* fitted */\n",
       "  background-color: var(--sklearn-color-fitted-level-2);\n",
       "}\n",
       "\n",
       "#sk-container-id-1 div.sk-label label.sk-toggleable__label,\n",
       "#sk-container-id-1 div.sk-label label {\n",
       "  /* The background is the default theme color */\n",
       "  color: var(--sklearn-color-text-on-default-background);\n",
       "}\n",
       "\n",
       "/* On hover, darken the color of the background */\n",
       "#sk-container-id-1 div.sk-label:hover label.sk-toggleable__label {\n",
       "  color: var(--sklearn-color-text);\n",
       "  background-color: var(--sklearn-color-unfitted-level-2);\n",
       "}\n",
       "\n",
       "/* Label box, darken color on hover, fitted */\n",
       "#sk-container-id-1 div.sk-label.fitted:hover label.sk-toggleable__label.fitted {\n",
       "  color: var(--sklearn-color-text);\n",
       "  background-color: var(--sklearn-color-fitted-level-2);\n",
       "}\n",
       "\n",
       "/* Estimator label */\n",
       "\n",
       "#sk-container-id-1 div.sk-label label {\n",
       "  font-family: monospace;\n",
       "  font-weight: bold;\n",
       "  display: inline-block;\n",
       "  line-height: 1.2em;\n",
       "}\n",
       "\n",
       "#sk-container-id-1 div.sk-label-container {\n",
       "  text-align: center;\n",
       "}\n",
       "\n",
       "/* Estimator-specific */\n",
       "#sk-container-id-1 div.sk-estimator {\n",
       "  font-family: monospace;\n",
       "  border: 1px dotted var(--sklearn-color-border-box);\n",
       "  border-radius: 0.25em;\n",
       "  box-sizing: border-box;\n",
       "  margin-bottom: 0.5em;\n",
       "  /* unfitted */\n",
       "  background-color: var(--sklearn-color-unfitted-level-0);\n",
       "}\n",
       "\n",
       "#sk-container-id-1 div.sk-estimator.fitted {\n",
       "  /* fitted */\n",
       "  background-color: var(--sklearn-color-fitted-level-0);\n",
       "}\n",
       "\n",
       "/* on hover */\n",
       "#sk-container-id-1 div.sk-estimator:hover {\n",
       "  /* unfitted */\n",
       "  background-color: var(--sklearn-color-unfitted-level-2);\n",
       "}\n",
       "\n",
       "#sk-container-id-1 div.sk-estimator.fitted:hover {\n",
       "  /* fitted */\n",
       "  background-color: var(--sklearn-color-fitted-level-2);\n",
       "}\n",
       "\n",
       "/* Specification for estimator info (e.g. \"i\" and \"?\") */\n",
       "\n",
       "/* Common style for \"i\" and \"?\" */\n",
       "\n",
       ".sk-estimator-doc-link,\n",
       "a:link.sk-estimator-doc-link,\n",
       "a:visited.sk-estimator-doc-link {\n",
       "  float: right;\n",
       "  font-size: smaller;\n",
       "  line-height: 1em;\n",
       "  font-family: monospace;\n",
       "  background-color: var(--sklearn-color-background);\n",
       "  border-radius: 1em;\n",
       "  height: 1em;\n",
       "  width: 1em;\n",
       "  text-decoration: none !important;\n",
       "  margin-left: 1ex;\n",
       "  /* unfitted */\n",
       "  border: var(--sklearn-color-unfitted-level-1) 1pt solid;\n",
       "  color: var(--sklearn-color-unfitted-level-1);\n",
       "}\n",
       "\n",
       ".sk-estimator-doc-link.fitted,\n",
       "a:link.sk-estimator-doc-link.fitted,\n",
       "a:visited.sk-estimator-doc-link.fitted {\n",
       "  /* fitted */\n",
       "  border: var(--sklearn-color-fitted-level-1) 1pt solid;\n",
       "  color: var(--sklearn-color-fitted-level-1);\n",
       "}\n",
       "\n",
       "/* On hover */\n",
       "div.sk-estimator:hover .sk-estimator-doc-link:hover,\n",
       ".sk-estimator-doc-link:hover,\n",
       "div.sk-label-container:hover .sk-estimator-doc-link:hover,\n",
       ".sk-estimator-doc-link:hover {\n",
       "  /* unfitted */\n",
       "  background-color: var(--sklearn-color-unfitted-level-3);\n",
       "  color: var(--sklearn-color-background);\n",
       "  text-decoration: none;\n",
       "}\n",
       "\n",
       "div.sk-estimator.fitted:hover .sk-estimator-doc-link.fitted:hover,\n",
       ".sk-estimator-doc-link.fitted:hover,\n",
       "div.sk-label-container:hover .sk-estimator-doc-link.fitted:hover,\n",
       ".sk-estimator-doc-link.fitted:hover {\n",
       "  /* fitted */\n",
       "  background-color: var(--sklearn-color-fitted-level-3);\n",
       "  color: var(--sklearn-color-background);\n",
       "  text-decoration: none;\n",
       "}\n",
       "\n",
       "/* Span, style for the box shown on hovering the info icon */\n",
       ".sk-estimator-doc-link span {\n",
       "  display: none;\n",
       "  z-index: 9999;\n",
       "  position: relative;\n",
       "  font-weight: normal;\n",
       "  right: .2ex;\n",
       "  padding: .5ex;\n",
       "  margin: .5ex;\n",
       "  width: min-content;\n",
       "  min-width: 20ex;\n",
       "  max-width: 50ex;\n",
       "  color: var(--sklearn-color-text);\n",
       "  box-shadow: 2pt 2pt 4pt #999;\n",
       "  /* unfitted */\n",
       "  background: var(--sklearn-color-unfitted-level-0);\n",
       "  border: .5pt solid var(--sklearn-color-unfitted-level-3);\n",
       "}\n",
       "\n",
       ".sk-estimator-doc-link.fitted span {\n",
       "  /* fitted */\n",
       "  background: var(--sklearn-color-fitted-level-0);\n",
       "  border: var(--sklearn-color-fitted-level-3);\n",
       "}\n",
       "\n",
       ".sk-estimator-doc-link:hover span {\n",
       "  display: block;\n",
       "}\n",
       "\n",
       "/* \"?\"-specific style due to the `<a>` HTML tag */\n",
       "\n",
       "#sk-container-id-1 a.estimator_doc_link {\n",
       "  float: right;\n",
       "  font-size: 1rem;\n",
       "  line-height: 1em;\n",
       "  font-family: monospace;\n",
       "  background-color: var(--sklearn-color-background);\n",
       "  border-radius: 1rem;\n",
       "  height: 1rem;\n",
       "  width: 1rem;\n",
       "  text-decoration: none;\n",
       "  /* unfitted */\n",
       "  color: var(--sklearn-color-unfitted-level-1);\n",
       "  border: var(--sklearn-color-unfitted-level-1) 1pt solid;\n",
       "}\n",
       "\n",
       "#sk-container-id-1 a.estimator_doc_link.fitted {\n",
       "  /* fitted */\n",
       "  border: var(--sklearn-color-fitted-level-1) 1pt solid;\n",
       "  color: var(--sklearn-color-fitted-level-1);\n",
       "}\n",
       "\n",
       "/* On hover */\n",
       "#sk-container-id-1 a.estimator_doc_link:hover {\n",
       "  /* unfitted */\n",
       "  background-color: var(--sklearn-color-unfitted-level-3);\n",
       "  color: var(--sklearn-color-background);\n",
       "  text-decoration: none;\n",
       "}\n",
       "\n",
       "#sk-container-id-1 a.estimator_doc_link.fitted:hover {\n",
       "  /* fitted */\n",
       "  background-color: var(--sklearn-color-fitted-level-3);\n",
       "}\n",
       "</style><div id=\"sk-container-id-1\" class=\"sk-top-container\"><div class=\"sk-text-repr-fallback\"><pre>MultinomialNB()</pre><b>In a Jupyter environment, please rerun this cell to show the HTML representation or trust the notebook. <br />On GitHub, the HTML representation is unable to render, please try loading this page with nbviewer.org.</b></div><div class=\"sk-container\" hidden><div class=\"sk-item\"><div class=\"sk-estimator fitted sk-toggleable\"><input class=\"sk-toggleable__control sk-hidden--visually\" id=\"sk-estimator-id-1\" type=\"checkbox\" checked><label for=\"sk-estimator-id-1\" class=\"sk-toggleable__label fitted sk-toggleable__label-arrow fitted\">&nbsp;&nbsp;MultinomialNB<a class=\"sk-estimator-doc-link fitted\" rel=\"noreferrer\" target=\"_blank\" href=\"https://scikit-learn.org/1.4/modules/generated/sklearn.naive_bayes.MultinomialNB.html\">?<span>Documentation for MultinomialNB</span></a><span class=\"sk-estimator-doc-link fitted\">i<span>Fitted</span></span></label><div class=\"sk-toggleable__content fitted\"><pre>MultinomialNB()</pre></div> </div></div></div></div>"
      ],
      "text/plain": [
       "MultinomialNB()"
      ]
     },
     "execution_count": 454,
     "metadata": {},
     "output_type": "execute_result"
    }
   ],
   "source": [
    "# fit these models \n",
    "classifier_bow.fit(train_bow, train_dataset['labels'])\n",
    "classifier_tfidf.fit(train_tfidf, train_dataset['labels'])"
   ]
  },
  {
   "cell_type": "code",
   "execution_count": 463,
   "metadata": {},
   "outputs": [
    {
     "data": {
      "text/plain": [
       "0          positive\n",
       "1          positive\n",
       "2          positive\n",
       "3          positive\n",
       "4          positive\n",
       "             ...   \n",
       "3600005    negative\n",
       "3600006    negative\n",
       "3600007    negative\n",
       "3600008    negative\n",
       "3600009    positive\n",
       "Name: labels, Length: 3600010, dtype: object"
      ]
     },
     "execution_count": 463,
     "metadata": {},
     "output_type": "execute_result"
    }
   ],
   "source": [
    "train_dataset['labels']"
   ]
  },
  {
   "cell_type": "code",
   "execution_count": 464,
   "metadata": {},
   "outputs": [
    {
     "data": {
      "text/plain": [
       "<400000x980808 sparse matrix of type '<class 'numpy.int64'>'\n",
       "\twith 13961182 stored elements in Compressed Sparse Row format>"
      ]
     },
     "execution_count": 464,
     "metadata": {},
     "output_type": "execute_result"
    }
   ],
   "source": [
    "test_bow"
   ]
  },
  {
   "cell_type": "code",
   "execution_count": 465,
   "metadata": {},
   "outputs": [
    {
     "data": {
      "text/plain": [
       "<400000x980808 sparse matrix of type '<class 'numpy.float64'>'\n",
       "\twith 13961182 stored elements in Compressed Sparse Row format>"
      ]
     },
     "execution_count": 465,
     "metadata": {},
     "output_type": "execute_result"
    }
   ],
   "source": [
    "test_tfidf"
   ]
  },
  {
   "cell_type": "markdown",
   "metadata": {},
   "source": [
    "# Making predictions with classifier"
   ]
  },
  {
   "cell_type": "code",
   "execution_count": 466,
   "metadata": {},
   "outputs": [],
   "source": [
    "test_dataset['bow'] = classifier_bow.predict(test_bow)"
   ]
  },
  {
   "cell_type": "code",
   "execution_count": 467,
   "metadata": {},
   "outputs": [],
   "source": [
    "test_dataset['tfidf'] = classifier_bow.predict(test_tfidf)"
   ]
  },
  {
   "cell_type": "code",
   "execution_count": 468,
   "metadata": {},
   "outputs": [
    {
     "data": {
      "text/html": [
       "<div>\n",
       "<style scoped>\n",
       "    .dataframe tbody tr th:only-of-type {\n",
       "        vertical-align: middle;\n",
       "    }\n",
       "\n",
       "    .dataframe tbody tr th {\n",
       "        vertical-align: top;\n",
       "    }\n",
       "\n",
       "    .dataframe thead th {\n",
       "        text-align: right;\n",
       "    }\n",
       "</style>\n",
       "<table border=\"1\" class=\"dataframe\">\n",
       "  <thead>\n",
       "    <tr style=\"text-align: right;\">\n",
       "      <th></th>\n",
       "      <th>labels</th>\n",
       "      <th>text</th>\n",
       "      <th>stop words</th>\n",
       "      <th>vader_on_text</th>\n",
       "      <th>vader_on_text_without_stopwords</th>\n",
       "      <th>bow</th>\n",
       "      <th>tfidf</th>\n",
       "    </tr>\n",
       "  </thead>\n",
       "  <tbody>\n",
       "    <tr>\n",
       "      <th>0</th>\n",
       "      <td>positive</td>\n",
       "      <td>Great CD: My lovely Pat has one of the GREAT v...</td>\n",
       "      <td>Great CD : lovely Pat one GREAT voices generat...</td>\n",
       "      <td>positive</td>\n",
       "      <td>positive</td>\n",
       "      <td>positive</td>\n",
       "      <td>positive</td>\n",
       "    </tr>\n",
       "    <tr>\n",
       "      <th>1</th>\n",
       "      <td>positive</td>\n",
       "      <td>One of the best game music soundtracks - for a...</td>\n",
       "      <td>One best game music soundtracks - game n't rea...</td>\n",
       "      <td>positive</td>\n",
       "      <td>positive</td>\n",
       "      <td>positive</td>\n",
       "      <td>positive</td>\n",
       "    </tr>\n",
       "    <tr>\n",
       "      <th>2</th>\n",
       "      <td>negative</td>\n",
       "      <td>Batteries died within a year ...: I bought thi...</td>\n",
       "      <td>Batteries died within year ... : bought charge...</td>\n",
       "      <td>positive</td>\n",
       "      <td>positive</td>\n",
       "      <td>negative</td>\n",
       "      <td>negative</td>\n",
       "    </tr>\n",
       "    <tr>\n",
       "      <th>3</th>\n",
       "      <td>positive</td>\n",
       "      <td>works fine, but Maha Energy is better: Check o...</td>\n",
       "      <td>works fine , Maha Energy better : Check Maha E...</td>\n",
       "      <td>positive</td>\n",
       "      <td>positive</td>\n",
       "      <td>negative</td>\n",
       "      <td>negative</td>\n",
       "    </tr>\n",
       "    <tr>\n",
       "      <th>4</th>\n",
       "      <td>positive</td>\n",
       "      <td>Great for the non-audiophile: Reviewed quite a...</td>\n",
       "      <td>Great non-audiophile : Reviewed quite bit comb...</td>\n",
       "      <td>positive</td>\n",
       "      <td>positive</td>\n",
       "      <td>positive</td>\n",
       "      <td>positive</td>\n",
       "    </tr>\n",
       "    <tr>\n",
       "      <th>...</th>\n",
       "      <td>...</td>\n",
       "      <td>...</td>\n",
       "      <td>...</td>\n",
       "      <td>...</td>\n",
       "      <td>...</td>\n",
       "      <td>...</td>\n",
       "      <td>...</td>\n",
       "    </tr>\n",
       "    <tr>\n",
       "      <th>399995</th>\n",
       "      <td>negative</td>\n",
       "      <td>Unbelievable- In a Bad Way: We bought this Tho...</td>\n",
       "      <td>Unbelievable- Bad Way : bought Thomas son huge...</td>\n",
       "      <td>positive</td>\n",
       "      <td>positive</td>\n",
       "      <td>negative</td>\n",
       "      <td>negative</td>\n",
       "    </tr>\n",
       "    <tr>\n",
       "      <th>399996</th>\n",
       "      <td>negative</td>\n",
       "      <td>Almost Great, Until it Broke...: My son reciev...</td>\n",
       "      <td>Almost Great , Broke ... : son recieved birthd...</td>\n",
       "      <td>negative</td>\n",
       "      <td>positive</td>\n",
       "      <td>negative</td>\n",
       "      <td>negative</td>\n",
       "    </tr>\n",
       "    <tr>\n",
       "      <th>399997</th>\n",
       "      <td>negative</td>\n",
       "      <td>Disappointed !!!: I bought this toy for my son...</td>\n",
       "      <td>Disappointed ! ! ! : bought toy son loves `` T...</td>\n",
       "      <td>positive</td>\n",
       "      <td>positive</td>\n",
       "      <td>negative</td>\n",
       "      <td>negative</td>\n",
       "    </tr>\n",
       "    <tr>\n",
       "      <th>399998</th>\n",
       "      <td>positive</td>\n",
       "      <td>Classic Jessica Mitford: This is a compilation...</td>\n",
       "      <td>Classic Jessica Mitford : compilation wide ran...</td>\n",
       "      <td>positive</td>\n",
       "      <td>positive</td>\n",
       "      <td>positive</td>\n",
       "      <td>positive</td>\n",
       "    </tr>\n",
       "    <tr>\n",
       "      <th>399999</th>\n",
       "      <td>negative</td>\n",
       "      <td>Comedy Scene, and Not Heard: This DVD will be ...</td>\n",
       "      <td>Comedy Scene , Heard : DVD disappointment get ...</td>\n",
       "      <td>positive</td>\n",
       "      <td>positive</td>\n",
       "      <td>negative</td>\n",
       "      <td>negative</td>\n",
       "    </tr>\n",
       "  </tbody>\n",
       "</table>\n",
       "<p>400000 rows × 7 columns</p>\n",
       "</div>"
      ],
      "text/plain": [
       "          labels                                               text  \\\n",
       "0       positive  Great CD: My lovely Pat has one of the GREAT v...   \n",
       "1       positive  One of the best game music soundtracks - for a...   \n",
       "2       negative  Batteries died within a year ...: I bought thi...   \n",
       "3       positive  works fine, but Maha Energy is better: Check o...   \n",
       "4       positive  Great for the non-audiophile: Reviewed quite a...   \n",
       "...          ...                                                ...   \n",
       "399995  negative  Unbelievable- In a Bad Way: We bought this Tho...   \n",
       "399996  negative  Almost Great, Until it Broke...: My son reciev...   \n",
       "399997  negative  Disappointed !!!: I bought this toy for my son...   \n",
       "399998  positive  Classic Jessica Mitford: This is a compilation...   \n",
       "399999  negative  Comedy Scene, and Not Heard: This DVD will be ...   \n",
       "\n",
       "                                               stop words vader_on_text  \\\n",
       "0       Great CD : lovely Pat one GREAT voices generat...      positive   \n",
       "1       One best game music soundtracks - game n't rea...      positive   \n",
       "2       Batteries died within year ... : bought charge...      positive   \n",
       "3       works fine , Maha Energy better : Check Maha E...      positive   \n",
       "4       Great non-audiophile : Reviewed quite bit comb...      positive   \n",
       "...                                                   ...           ...   \n",
       "399995  Unbelievable- Bad Way : bought Thomas son huge...      positive   \n",
       "399996  Almost Great , Broke ... : son recieved birthd...      negative   \n",
       "399997  Disappointed ! ! ! : bought toy son loves `` T...      positive   \n",
       "399998  Classic Jessica Mitford : compilation wide ran...      positive   \n",
       "399999  Comedy Scene , Heard : DVD disappointment get ...      positive   \n",
       "\n",
       "       vader_on_text_without_stopwords       bow     tfidf  \n",
       "0                             positive  positive  positive  \n",
       "1                             positive  positive  positive  \n",
       "2                             positive  negative  negative  \n",
       "3                             positive  negative  negative  \n",
       "4                             positive  positive  positive  \n",
       "...                                ...       ...       ...  \n",
       "399995                        positive  negative  negative  \n",
       "399996                        positive  negative  negative  \n",
       "399997                        positive  negative  negative  \n",
       "399998                        positive  positive  positive  \n",
       "399999                        positive  negative  negative  \n",
       "\n",
       "[400000 rows x 7 columns]"
      ]
     },
     "execution_count": 468,
     "metadata": {},
     "output_type": "execute_result"
    }
   ],
   "source": [
    "test_dataset"
   ]
  },
  {
   "cell_type": "markdown",
   "metadata": {},
   "source": [
    "# Model Evaluation: Using Accuracy Scores and Classification Report"
   ]
  },
  {
   "cell_type": "code",
   "execution_count": 476,
   "metadata": {},
   "outputs": [],
   "source": [
    "from sklearn.metrics import accuracy_score, classification_report"
   ]
  },
  {
   "cell_type": "code",
   "execution_count": 478,
   "metadata": {},
   "outputs": [
    {
     "data": {
      "text/html": [
       "<div>\n",
       "<style scoped>\n",
       "    .dataframe tbody tr th:only-of-type {\n",
       "        vertical-align: middle;\n",
       "    }\n",
       "\n",
       "    .dataframe tbody tr th {\n",
       "        vertical-align: top;\n",
       "    }\n",
       "\n",
       "    .dataframe thead th {\n",
       "        text-align: right;\n",
       "    }\n",
       "</style>\n",
       "<table border=\"1\" class=\"dataframe\">\n",
       "  <thead>\n",
       "    <tr style=\"text-align: right;\">\n",
       "      <th></th>\n",
       "      <th>labels</th>\n",
       "      <th>text</th>\n",
       "      <th>stop words</th>\n",
       "      <th>vader_on_text</th>\n",
       "      <th>vader_on_text_without_stopwords</th>\n",
       "      <th>bow</th>\n",
       "      <th>tfidf</th>\n",
       "    </tr>\n",
       "  </thead>\n",
       "  <tbody>\n",
       "    <tr>\n",
       "      <th>0</th>\n",
       "      <td>positive</td>\n",
       "      <td>Great CD: My lovely Pat has one of the GREAT v...</td>\n",
       "      <td>Great CD : lovely Pat one GREAT voices generat...</td>\n",
       "      <td>positive</td>\n",
       "      <td>positive</td>\n",
       "      <td>positive</td>\n",
       "      <td>positive</td>\n",
       "    </tr>\n",
       "    <tr>\n",
       "      <th>1</th>\n",
       "      <td>positive</td>\n",
       "      <td>One of the best game music soundtracks - for a...</td>\n",
       "      <td>One best game music soundtracks - game n't rea...</td>\n",
       "      <td>positive</td>\n",
       "      <td>positive</td>\n",
       "      <td>positive</td>\n",
       "      <td>positive</td>\n",
       "    </tr>\n",
       "    <tr>\n",
       "      <th>2</th>\n",
       "      <td>negative</td>\n",
       "      <td>Batteries died within a year ...: I bought thi...</td>\n",
       "      <td>Batteries died within year ... : bought charge...</td>\n",
       "      <td>positive</td>\n",
       "      <td>positive</td>\n",
       "      <td>negative</td>\n",
       "      <td>negative</td>\n",
       "    </tr>\n",
       "    <tr>\n",
       "      <th>3</th>\n",
       "      <td>positive</td>\n",
       "      <td>works fine, but Maha Energy is better: Check o...</td>\n",
       "      <td>works fine , Maha Energy better : Check Maha E...</td>\n",
       "      <td>positive</td>\n",
       "      <td>positive</td>\n",
       "      <td>negative</td>\n",
       "      <td>negative</td>\n",
       "    </tr>\n",
       "    <tr>\n",
       "      <th>4</th>\n",
       "      <td>positive</td>\n",
       "      <td>Great for the non-audiophile: Reviewed quite a...</td>\n",
       "      <td>Great non-audiophile : Reviewed quite bit comb...</td>\n",
       "      <td>positive</td>\n",
       "      <td>positive</td>\n",
       "      <td>positive</td>\n",
       "      <td>positive</td>\n",
       "    </tr>\n",
       "  </tbody>\n",
       "</table>\n",
       "</div>"
      ],
      "text/plain": [
       "     labels                                               text  \\\n",
       "0  positive  Great CD: My lovely Pat has one of the GREAT v...   \n",
       "1  positive  One of the best game music soundtracks - for a...   \n",
       "2  negative  Batteries died within a year ...: I bought thi...   \n",
       "3  positive  works fine, but Maha Energy is better: Check o...   \n",
       "4  positive  Great for the non-audiophile: Reviewed quite a...   \n",
       "\n",
       "                                          stop words vader_on_text  \\\n",
       "0  Great CD : lovely Pat one GREAT voices generat...      positive   \n",
       "1  One best game music soundtracks - game n't rea...      positive   \n",
       "2  Batteries died within year ... : bought charge...      positive   \n",
       "3  works fine , Maha Energy better : Check Maha E...      positive   \n",
       "4  Great non-audiophile : Reviewed quite bit comb...      positive   \n",
       "\n",
       "  vader_on_text_without_stopwords       bow     tfidf  \n",
       "0                        positive  positive  positive  \n",
       "1                        positive  positive  positive  \n",
       "2                        positive  negative  negative  \n",
       "3                        positive  negative  negative  \n",
       "4                        positive  positive  positive  "
      ]
     },
     "execution_count": 478,
     "metadata": {},
     "output_type": "execute_result"
    }
   ],
   "source": [
    "# what are we evaluating \n",
    "test_dataset.head(5)"
   ]
  },
  {
   "cell_type": "code",
   "execution_count": 486,
   "metadata": {},
   "outputs": [],
   "source": [
    "vader_text_accuracy_score = accuracy_score(test_dataset['labels'], test_dataset['vader_on_text'])"
   ]
  },
  {
   "cell_type": "code",
   "execution_count": 488,
   "metadata": {},
   "outputs": [
    {
     "data": {
      "text/plain": [
       "71.66550000000001"
      ]
     },
     "execution_count": 488,
     "metadata": {},
     "output_type": "execute_result"
    }
   ],
   "source": [
    "vader_text_accuracy_score*100"
   ]
  },
  {
   "cell_type": "code",
   "execution_count": 490,
   "metadata": {},
   "outputs": [
    {
     "name": "stdout",
     "output_type": "stream",
     "text": [
      "              precision    recall  f1-score   support\n",
      "\n",
      "    negative       0.87      0.51      0.64    200000\n",
      "    positive       0.65      0.92      0.76    200000\n",
      "\n",
      "    accuracy                           0.72    400000\n",
      "   macro avg       0.76      0.72      0.70    400000\n",
      "weighted avg       0.76      0.72      0.70    400000\n",
      "\n"
     ]
    }
   ],
   "source": [
    "print(classification_report(test_dataset['labels'], test_dataset['vader_on_text']))"
   ]
  },
  {
   "cell_type": "code",
   "execution_count": 491,
   "metadata": {},
   "outputs": [],
   "source": [
    "vader_text_stopwords_accuracy_score = accuracy_score(test_dataset['labels'], test_dataset['vader_on_text_without_stopwords'])"
   ]
  },
  {
   "cell_type": "code",
   "execution_count": 492,
   "metadata": {},
   "outputs": [
    {
     "data": {
      "text/plain": [
       "68.08024999999999"
      ]
     },
     "execution_count": 492,
     "metadata": {},
     "output_type": "execute_result"
    }
   ],
   "source": [
    "vader_text_stopwords_accuracy_score*100"
   ]
  },
  {
   "cell_type": "code",
   "execution_count": 496,
   "metadata": {},
   "outputs": [
    {
     "name": "stdout",
     "output_type": "stream",
     "text": [
      "              precision    recall  f1-score   support\n",
      "\n",
      "    negative       0.86      0.43      0.57    200000\n",
      "    positive       0.62      0.93      0.75    200000\n",
      "\n",
      "    accuracy                           0.68    400000\n",
      "   macro avg       0.74      0.68      0.66    400000\n",
      "weighted avg       0.74      0.68      0.66    400000\n",
      "\n"
     ]
    }
   ],
   "source": [
    "print(classification_report(test_dataset['labels'], test_dataset['vader_on_text_without_stopwords']))"
   ]
  },
  {
   "cell_type": "code",
   "execution_count": 502,
   "metadata": {},
   "outputs": [],
   "source": [
    "bow_score = accuracy_score(test_dataset['labels'], test_dataset['bow'])"
   ]
  },
  {
   "cell_type": "code",
   "execution_count": 504,
   "metadata": {},
   "outputs": [
    {
     "data": {
      "text/plain": [
       "84.8735"
      ]
     },
     "execution_count": 504,
     "metadata": {},
     "output_type": "execute_result"
    }
   ],
   "source": [
    "bow_score*100"
   ]
  },
  {
   "cell_type": "code",
   "execution_count": 498,
   "metadata": {},
   "outputs": [
    {
     "name": "stdout",
     "output_type": "stream",
     "text": [
      "              precision    recall  f1-score   support\n",
      "\n",
      "    negative       0.84      0.86      0.85    200000\n",
      "    positive       0.85      0.84      0.85    200000\n",
      "\n",
      "    accuracy                           0.85    400000\n",
      "   macro avg       0.85      0.85      0.85    400000\n",
      "weighted avg       0.85      0.85      0.85    400000\n",
      "\n"
     ]
    }
   ],
   "source": [
    "print(classification_report(test_dataset['labels'], test_dataset['bow']))"
   ]
  },
  {
   "cell_type": "code",
   "execution_count": 506,
   "metadata": {},
   "outputs": [],
   "source": [
    "tfidf_score = accuracy_score(test_dataset['labels'], test_dataset['tfidf'])"
   ]
  },
  {
   "cell_type": "code",
   "execution_count": 508,
   "metadata": {},
   "outputs": [
    {
     "data": {
      "text/plain": [
       "83.22125"
      ]
     },
     "execution_count": 508,
     "metadata": {},
     "output_type": "execute_result"
    }
   ],
   "source": [
    "tfidf_score*100"
   ]
  },
  {
   "cell_type": "code",
   "execution_count": 510,
   "metadata": {},
   "outputs": [
    {
     "name": "stdout",
     "output_type": "stream",
     "text": [
      "              precision    recall  f1-score   support\n",
      "\n",
      "    negative       0.83      0.84      0.83    200000\n",
      "    positive       0.84      0.82      0.83    200000\n",
      "\n",
      "    accuracy                           0.83    400000\n",
      "   macro avg       0.83      0.83      0.83    400000\n",
      "weighted avg       0.83      0.83      0.83    400000\n",
      "\n"
     ]
    }
   ],
   "source": [
    "print(classification_report(test_dataset['labels'], test_dataset['tfidf']))"
   ]
  },
  {
   "cell_type": "markdown",
   "metadata": {},
   "source": [
    "# Conclusion: The best performing model/pipeline is the text to stopwords remover to bow to multinomialNB"
   ]
  },
  {
   "cell_type": "code",
   "execution_count": 542,
   "metadata": {},
   "outputs": [],
   "source": [
    "def inference(text):\n",
    "    \"\"\"\n",
    "    remove stopwords\n",
    "    convert the remaining words to bag of words\n",
    "    convert the bof words to classifier_bow\n",
    "    return prediction\n",
    "    \"\"\"\n",
    "    filtered_test = remove_stopwords(text)\n",
    "    bow_single = vectorizer.transform([filtered_test])\n",
    "    inference = classifier_bow.predict(bow_single)\n",
    "    return inference[0]"
   ]
  },
  {
   "cell_type": "code",
   "execution_count": 544,
   "metadata": {},
   "outputs": [],
   "source": [
    "example = 'I love the orange flavor, it is so good'"
   ]
  },
  {
   "cell_type": "code",
   "execution_count": 546,
   "metadata": {},
   "outputs": [
    {
     "data": {
      "text/plain": [
       "'positive'"
      ]
     },
     "execution_count": 546,
     "metadata": {},
     "output_type": "execute_result"
    }
   ],
   "source": [
    "inference(example)"
   ]
  },
  {
   "cell_type": "markdown",
   "metadata": {},
   "source": [
    "# Model Interpretation and Comparison\n",
    "1. VADER on Raw Text\n",
    "- Accuracy: 71.67%\n",
    "- Precision, Recall, F1-Score:\n",
    "- Negative: Precision (0.87), Recall (0.51), F1-Score (0.64)\n",
    "- Positive: Precision (0.65), Recall (0.92), F1-Score (0.76)\n",
    "- Macro Avg: Precision (0.76), Recall (0.72), F1-Score (0.70)\n",
    "- Weighted Avg: Precision (0.76), Recall (0.72), F1-Score (0.70)\n",
    "\n",
    "VADER performed moderately well, with higher precision for negative sentiments but better recall for positive sentiments. The overall accuracy indicates that VADER can classify sentiments, but there's room for improvement, particularly in handling negative sentiments.\n",
    "\n",
    "2. VADER with Stopwords Removed\n",
    "- Accuracy: 68.08%\n",
    "- Precision, Recall, F1-Score:\n",
    "- Negative: Precision (0.86), Recall (0.43), F1-Score (0.57)\n",
    "- Positive: Precision (0.62), Recall (0.93), F1-Score (0.75)\n",
    "- Macro Avg: Precision (0.74), Recall (0.68), F1-Score (0.66)\n",
    "- Weighted Avg: Precision (0.74), Recall (0.68), F1-Score (0.66)\n",
    "\n",
    "Removing stopwords slightly decreased the overall accuracy and F1-scores. The precision for negative sentiments remained high, but the recall dropped significantly, indicating that VADER struggled more to correctly identify negative reviews without stopwords.\n",
    "\n",
    "3. Bag of Words (BoW) Model\n",
    "- Accuracy: 84.87%\n",
    "- Precision, Recall, F1-Score:\n",
    "- Negative: Precision (0.84), Recall (0.86), F1-Score (0.85)\n",
    "- Positive: Precision (0.85), Recall (0.84), F1-Score (0.85)\n",
    "- Macro Avg: Precision (0.85), Recall (0.85), F1-Score (0.85)\n",
    "- Weighted Avg: Precision (0.85), Recall (0.85), F1-Score (0.85)\n",
    "\n",
    "The BoW model significantly outperformed VADER, achieving higher accuracy and balanced precision and recall scores for both sentiment classes. This suggests that BoW, likely with a more sophisticated classifier, was better at capturing the nuances in the text data.\n",
    "\n",
    "4. TF-IDF Model\n",
    "- Accuracy: 83.22%\n",
    "- Precision, Recall, F1-Score:\n",
    "- Negative: Precision (0.83), Recall (0.84), F1-Score (0.83)\n",
    "- Positive: Precision (0.84), Recall (0.82), F1-Score (0.83)\n",
    "- Macro Avg: Precision (0.83), Recall (0.83), F1-Score (0.83)\n",
    "- Weighted Avg: Precision (0.83), Recall (0.83), F1-Score (0.83)\n",
    "\n",
    "The TF-IDF model also performed well, with slightly lower accuracy than the BoW model but still much better than VADER. The balanced scores across all metrics indicate that TF-IDF is effective for this classification task.\n",
    "\n",
    "# Business Implications\n",
    "1. Improved Customer Feedback Analysis: The higher accuracy of the BoW and TF-IDF models indicates more reliable sentiment analysis, enabling TechTrends to better understand customer opinions and preferences.\n",
    "2. Resource Allocation: Automated, accurate sentiment analysis reduces the need for manual review, saving time and resources.\n",
    "3. Enhanced Customer Satisfaction: By accurately identifying and addressing negative feedback, TechTrends can improve products and services, leading to higher customer satisfaction and loyalty.\n",
    "4. Data-Driven Decisions: Reliable sentiment data supports strategic decisions, such as product development and marketing strategies, based on real customer feedback.\n",
    "# Recommendations\n",
    "1. Deploy BoW or TF-IDF Models: Given their superior performance, these models should be preferred for operational use. Regular updates to the training data should be considered to maintain accuracy.\n",
    "2. Enhance Data Preprocessing: Further refine preprocessing steps, such as better handling of special characters and synonyms, to improve model performance.\n",
    "3. Combine Models: Consider an ensemble approach that combines the strengths of multiple models for even better accuracy.\n",
    "4. Continuous Monitoring and Feedback Loop: Regularly monitor model performance and customer feedback to adjust and improve the sentiment analysis system.\n",
    "5. Scalability: Ensure the infrastructure can handle large volumes of data as the company grows and more feedback is collected."
   ]
  }
 ],
 "metadata": {
  "colab": {
   "provenance": []
  },
  "kernelspec": {
   "display_name": "Python 3 (ipykernel)",
   "language": "python",
   "name": "python3"
  },
  "language_info": {
   "codemirror_mode": {
    "name": "ipython",
    "version": 3
   },
   "file_extension": ".py",
   "mimetype": "text/x-python",
   "name": "python",
   "nbconvert_exporter": "python",
   "pygments_lexer": "ipython3",
   "version": "3.12.4"
  }
 },
 "nbformat": 4,
 "nbformat_minor": 4
}
